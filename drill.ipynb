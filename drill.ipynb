{
 "cells": [
  {
   "cell_type": "code",
   "execution_count": 2,
   "metadata": {},
   "outputs": [
    {
     "name": "stdout",
     "output_type": "stream",
     "text": [
      "#1 : 45\n",
      "#2 : 25\n",
      "#3 : 266333\n"
     ]
    }
   ],
   "source": [
    "# 문제1: 1 ~ 9 까지 더하는 프로그램\n",
    "# 문제2: 1 ~ 9 까지 홀수의 합\n",
    "# 문제3: 1000 미만의 자연수에서 3의 배수와 5의 배수의 총합을 구하는 프로그램을 작성\n",
    "\n",
    "summary1 = 0\n",
    "summary2 = 0\n",
    "summary3 = 0\n",
    "\n",
    "#1\n",
    "for i in range(1,10):\n",
    "    summary1 += i \n",
    "    \n",
    "print('#1 : ' + str(summary1))\n",
    "\n",
    "#2\n",
    "for i in range(1,10,2):\n",
    "    summary2 += i\n",
    "    \n",
    "print('#2 : ' + str(summary2))\n",
    "\n",
    "#3\n",
    "l = list(range(0,1000,3)) + list(range(0,1000,5))\n",
    "\n",
    "print('#3 : ' + str(sum(l)))"
   ]
  },
  {
   "cell_type": "code",
   "execution_count": 15,
   "metadata": {},
   "outputs": [
    {
     "data": {
      "text/plain": [
       "([[1, 2, 3], [4, 5, 6], [7, 8, 9]], [])"
      ]
     },
     "execution_count": 15,
     "metadata": {},
     "output_type": "execute_result"
    }
   ],
   "source": [
    "# 문제4 : 아래 매트릭스를 모두 더해주세요\n",
    "m = [[1,2,3],[4,5,6],[7,8,9]]\n",
    "# sum(m)\n",
    "# sum(sum(m,[])) # 이게 좋은 답\n",
    "\n",
    "m,[]\n",
    "\n",
    "# [1,2,3]+[]\n",
    "\n",
    "# [4,5,6]+[1,2,3]\n",
    "\n",
    "# [1,2,3,4,5,6]+[7,8,9]\n"
   ]
  },
  {
   "cell_type": "code",
   "execution_count": 22,
   "metadata": {},
   "outputs": [
    {
     "data": {
      "text/plain": [
       "45"
      ]
     },
     "execution_count": 22,
     "metadata": {},
     "output_type": "execute_result"
    }
   ],
   "source": [
    "import numpy as np \n",
    "# 수학 수식 관련해서 막강한 성능 자랑함\n",
    "# 수학 수식 관련해서 파이썬보다 속도도 훨씬 빠르고 기능도 많음\n",
    "\n",
    "np.sum([[1,2,3],[4,5,6],[7,8,9]])\n"
   ]
  },
  {
   "cell_type": "code",
   "execution_count": 28,
   "metadata": {},
   "outputs": [
    {
     "data": {
      "text/plain": [
       "Counter({'s': 7,\n",
       "         'e': 4,\n",
       "         'l': 4,\n",
       "         'o': 4,\n",
       "         'r': 4,\n",
       "         'i': 4,\n",
       "         'p': 3,\n",
       "         't': 3,\n",
       "         'a': 2,\n",
       "         'n': 2,\n",
       "         'g': 2,\n",
       "         'H': 1,\n",
       "         'W': 1,\n",
       "         'd': 1,\n",
       "         'T': 1,\n",
       "         'h': 1,\n",
       "         'm': 1,\n",
       "         'f': 1,\n",
       "         'u': 1})"
      ]
     },
     "execution_count": 28,
     "metadata": {},
     "output_type": "execute_result"
    }
   ],
   "source": [
    "# 문제 5\n",
    "import collections\n",
    "\n",
    "s = \"Hello, World! This is a sample string for testing purposes\"\n",
    "s = s.replace(',','').replace('!','').replace('.','').replace(' ','')\n",
    "collections.Counter(s)"
   ]
  },
  {
   "cell_type": "code",
   "execution_count": 29,
   "metadata": {},
   "outputs": [
    {
     "data": {
      "text/plain": [
       "{'H': 1,\n",
       " 'e': 4,\n",
       " 'l': 4,\n",
       " 'o': 4,\n",
       " 'W': 1,\n",
       " 'r': 4,\n",
       " 'd': 1,\n",
       " 'T': 1,\n",
       " 'h': 1,\n",
       " 'i': 4,\n",
       " 's': 7,\n",
       " 'a': 2,\n",
       " 'm': 1,\n",
       " 'p': 3,\n",
       " 't': 3,\n",
       " 'n': 2,\n",
       " 'g': 2,\n",
       " 'f': 1,\n",
       " 'u': 1}"
      ]
     },
     "execution_count": 29,
     "metadata": {},
     "output_type": "execute_result"
    }
   ],
   "source": [
    "# 위의 것을 순회 도는 방식으로 풀도록 해봅시다 \n",
    "d = {}\n",
    "s = \"Hello, World! This is a sample string for testing purposes\"\n",
    "s = s.replace(',','').replace('!','').replace('.','').replace(' ','')\n",
    "\n",
    "# 풀이 1, 순회를 돌면서 dict에 있으면 += 1, 없으면 = 1 대입하면서 푼다\n",
    "for i in s:\n",
    "    if i in d:\n",
    "        d[i] += 1\n",
    "    else:\n",
    "        d[i] = 1\n",
    "        \n",
    "d"
   ]
  },
  {
   "cell_type": "code",
   "execution_count": null,
   "metadata": {},
   "outputs": [],
   "source": [
    "# 풀이2. set으로 만들어서 count를 한다."
   ]
  },
  {
   "cell_type": "code",
   "execution_count": 40,
   "metadata": {},
   "outputs": [
    {
     "name": "stdout",
     "output_type": "stream",
     "text": [
      "               *\n",
      "              ***\n",
      "             *****\n",
      "            *******\n",
      "           *********\n",
      "          ***********\n",
      "         *************\n",
      "        ***************\n",
      "       *****************\n",
      "      *******************\n",
      "     *********************\n",
      "    ***********************\n",
      "   *************************\n",
      "  ***************************\n",
      " *****************************\n"
     ]
    }
   ],
   "source": [
    "# 문제 6. 트리 만들기 \n",
    "for i in range(15):\n",
    "    print(' '*(15-i)+'*'*(2*i+1))"
   ]
  },
  {
   "cell_type": "code",
   "execution_count": 57,
   "metadata": {},
   "outputs": [
    {
     "data": {
      "text/plain": [
       "[2, 4, 6, 8]"
      ]
     },
     "execution_count": 57,
     "metadata": {},
     "output_type": "execute_result"
    }
   ],
   "source": [
    "# 다음 자료구조 클래스를 만들어주세요.\n",
    "# 데이터는 <1, 2, 3, 4> 형식으로 숫자만 저장됩니다.\n",
    "# print()를 하면 <1, 2, 3, 4>와 같이 출력이 되어야 합니다.\n",
    "# 메서드는 append, remove가 있습니다.\n",
    "# 아래 연산은 길이가 다르면 error가 납니다.\n",
    "# 나누기 연산은 지원하지 않습니다.\n",
    "# <1, 2, 3, 4> + <1, 2, 3 ,4> == <2, 4, 6, 8>와 같이 같은 순서에 요소를 더합니다.\n",
    "# <1, 2, 3, 4> - <1, 2, 1 ,2> == <0, 0, 2, 2>와 같이 같은 순서에 요소를 뺍니다.\n",
    "# <1, 2, 3, 4> * 3 == <3, 6, 9, 12>가 됩니다.\n",
    "\n",
    "class OperList:\n",
    "    def __init__(self, *args):\n",
    "        self.__operlist = list(args)\n",
    "\n",
    "    def __str__(self):\n",
    "        return f'<{str(self.__operlist)[1:-1]}>'\n",
    "\n",
    "    def __repr__(self):\n",
    "        return f'<{str(self.__operlist)[1:-1]}>'\n",
    "\n",
    "    def __len__(self):\n",
    "        return self.__operlist.__len__()\n",
    "\n",
    "    def __add__(self, other):\n",
    "        if len(self.__operlist) != len(other.__operlist):\n",
    "            raise\n",
    "        for i in range(len(self.__operlist)):\n",
    "            self.__operlist[i] += other.__operlist[i]\n",
    "        return self.__operlist\n",
    "\n",
    "    def __sub__(self, other):\n",
    "        if len(self.__operlist) != len(other.__operlist):\n",
    "            raise\n",
    "        for i in range(len(self.__operlist)):\n",
    "            self.__operlist[i] -= other.__operlist[i]\n",
    "        return self.__operlist\n",
    "\n",
    "    def __mul__(self, other):\n",
    "        if not isinstance(other, int):\n",
    "            raise\n",
    "        for i in range(len(self.__operlist)):\n",
    "            self.__operlist[i] *= other\n",
    "        return self.__operlist\n",
    "\n",
    "    def append(self, data):\n",
    "        self.__operlist.append(data)\n",
    "\n",
    "    def remove(self, data):\n",
    "        self.__operlist.remove(data)\n",
    "\n",
    "\n",
    "l = OperList(1, 2, 3, 4)\n",
    "ll = OperList(3, 4, 6, 7)\n",
    "# l + ll\n",
    "l * 2"
   ]
  }
 ],
 "metadata": {
  "kernelspec": {
   "display_name": "Python 3",
   "language": "python",
   "name": "python3"
  },
  "language_info": {
   "codemirror_mode": {
    "name": "ipython",
    "version": 3
   },
   "file_extension": ".py",
   "mimetype": "text/x-python",
   "name": "python",
   "nbconvert_exporter": "python",
   "pygments_lexer": "ipython3",
   "version": "3.10.5"
  },
  "orig_nbformat": 4
 },
 "nbformat": 4,
 "nbformat_minor": 2
}
