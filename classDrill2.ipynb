{
 "cells": [
  {
   "cell_type": "code",
   "execution_count": 14,
   "metadata": {},
   "outputs": [
    {
     "name": "stdout",
     "output_type": "stream",
     "text": [
      "멍멍\n",
      "야옹\n"
     ]
    }
   ],
   "source": [
    "# # 개, 고양이, 동물 클래스를 만들자\n",
    "# 동물 클래스 Animal을 만들어주세요. Dog와 Cat 클래스를 각각 정의하십시오. \n",
    "# Animal 클래스는 name 속성을 가집니다. 이 클래스는 make_sound 메서드를 갖고 있습니다.\n",
    "# Dog와 Cat 클래스는 Animal 클래스를 상속받는 클래스입니다.Dog 클래스의 make_sound 메서드는 \"멍멍!\"을, Cat 클래스의 make_sound 메서드는 \"야옹!\"을 출력하도록 재정의하세요.\n",
    "# 더 완성도 높은 클래스를 만들어보세요. 추가 속성이나 메서드 작성 가능합니다.\n",
    "class Animal : \n",
    "    \n",
    "    def __init__(self,race, name, weight):\n",
    "        self.race = race\n",
    "        self.name = name\n",
    "        self.weight = weight\n",
    "        \n",
    "    def make_sound(self, voice):\n",
    "        self.voice = voice\n",
    "        print(voice)\n",
    "        \n",
    "\n",
    "class Dog(Animal):\n",
    "    \n",
    "    def __init__(self, race, name, weight):\n",
    "        Animal.__init__(self, race, name, weight)\n",
    "    \n",
    "    def make_sound(self):\n",
    "        return \"멍멍\"\n",
    "    \n",
    "class Cat(Animal):\n",
    "    \n",
    "    def __init__(self, race, name, weight):\n",
    "        Animal.__init__(self, race, name, weight)\n",
    "    \n",
    "    def make_sound(self):\n",
    "        return \"야옹\"\n",
    "\n",
    "리트리버 = Dog('리트리버','테파',10)\n",
    "러시안블루 = Cat('러시안블루','시안',5)\n",
    "\n",
    "print(리트리버.make_sound())\n",
    "print(러시안블루.make_sound())\n",
    "        "
   ]
  },
  {
   "cell_type": "code",
   "execution_count": 19,
   "metadata": {},
   "outputs": [
    {
     "name": "stdout",
     "output_type": "stream",
     "text": [
      "제 이름은 정식이고 제 나이는 3000살 입니다\n",
      "Hello World!\n",
      "제 이름은 남정식이고 제 나이는 5000살 입니다 그리고 저는 2학년입니다. \n"
     ]
    }
   ],
   "source": [
    "# 문제 2\n",
    "# Person이라는 기본 클래스를 만들어주세요. \n",
    "# Person 클래스는 이름과 나이라는 두 개의 속성과 소개하기라는 메서드를 가지며, \n",
    "# 이 메서드는 \"Hello World!, 제 이름은 [이름]이고 제 나이는 [나이]살 입니다.\"라는 메시지를 출력합니다.\n",
    "\n",
    "# Person 클래스를 상속받는 Student 클래스를 정의하십시오. \n",
    "# Student 클래스는 추가적으로 학년 속성을 가집니다. \n",
    "# Student 클래스에서 소개하기 메서드를 오버라이드하여 \"Hello World!, \n",
    "# 제 이름은 [이름]이고 제 나이는 [나이]살 입니다. 그리고 저는 [학년]학년입니다. \"라는 메시지를 출력하도록 만드세요. \n",
    "\n",
    "class Person :\n",
    "    \n",
    "    def __init__(self,NAME,AGE):\n",
    "        self.NAME = NAME\n",
    "        self.AGE = AGE\n",
    "    \n",
    "    def 소개하기(self):\n",
    "        print(f'제 이름은 {self.NAME}이고 제 나이는 {self.AGE}살 입니다')\n",
    "        \n",
    "정식 = Person('정식',3000)\n",
    "정식.소개하기()\n",
    "\n",
    "class Student(Person) :\n",
    "    \n",
    "    def __init__(self, NAME, AGE, GRADE):\n",
    "        Person.__init__(self, NAME, AGE)\n",
    "        self.GRADE = GRADE\n",
    "        \n",
    "    def 소개하기(self):\n",
    "        print('Hello World!')\n",
    "        print(f'제 이름은 {self.NAME}이고 제 나이는 {self.AGE}살 입니다 그리고 저는 {self.GRADE}학년입니다. ')\n",
    "\n",
    "남정식 = Student('남정식', 5000, 2)\n",
    "남정식.소개하기()\n"
   ]
  }
 ],
 "metadata": {
  "kernelspec": {
   "display_name": "Python 3",
   "language": "python",
   "name": "python3"
  },
  "language_info": {
   "codemirror_mode": {
    "name": "ipython",
    "version": 3
   },
   "file_extension": ".py",
   "mimetype": "text/x-python",
   "name": "python",
   "nbconvert_exporter": "python",
   "pygments_lexer": "ipython3",
   "version": "3.10.5"
  },
  "orig_nbformat": 4
 },
 "nbformat": 4,
 "nbformat_minor": 2
}
