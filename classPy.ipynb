{
 "cells": [
  {
   "cell_type": "markdown",
   "metadata": {},
   "source": [
    "# 클래스 변수와 인스턴스 변수"
   ]
  },
  {
   "cell_type": "code",
   "execution_count": 1,
   "metadata": {},
   "outputs": [
    {
     "name": "stdout",
     "output_type": "stream",
     "text": [
      "300\n",
      "300\n",
      "500\n"
     ]
    }
   ],
   "source": [
    "class Car:\n",
    "    # 클래스 변수의 위치\n",
    "    max_speed = 300\n",
    "    max_people = 5\n",
    "    car_gear = ['P', 'D', 'R', 'N']\n",
    "\n",
    "modelx = Car()\n",
    "modely = Car()\n",
    "\n",
    "modely.max_speed = 500\n",
    "\n",
    "print(Car.max_speed) # 출력 : 300\n",
    "print(modelx.max_speed) # 300\n",
    "print(modely.max_speed) # 500"
   ]
  },
  {
   "cell_type": "code",
   "execution_count": 3,
   "metadata": {},
   "outputs": [
    {
     "name": "stdout",
     "output_type": "stream",
     "text": [
      "1490262045104\n",
      "1490262045104\n",
      "1490262045424\n"
     ]
    }
   ],
   "source": [
    "print(id(Car.max_speed))\n",
    "print(id(modelx.max_speed))\n",
    "print(id(modely.max_speed))\n"
   ]
  },
  {
   "cell_type": "code",
   "execution_count": 17,
   "metadata": {},
   "outputs": [
    {
     "name": "stdout",
     "output_type": "stream",
     "text": [
      "modelx.kinds: ['x', 'y']\n",
      "modely.kinds: ['x', 'y']\n",
      "modelx.speed: 100\n",
      "modely.speed: 100\n"
     ]
    }
   ],
   "source": [
    "class Car:\n",
    "    speed = 300\n",
    "    kinds = []\n",
    "    def add_kinds(self, name):\n",
    "        kinds = []\n",
    "        self.kinds.append(name) # 이건 클래스 영역에 접근해서 거기에 데이터를 쓰고 있음\n",
    "\n",
    "    def change_speed(self, speed):\n",
    "        self.speed = speed\n",
    "\n",
    "modelx = Car()\n",
    "modely = Car()\n",
    "\n",
    "modelx.add_kinds('x')\n",
    "modely.add_kinds('y')\n",
    "\n",
    "Car.speed = 100\n",
    "\n",
    "# modelx.change_speed(500)\n",
    "# modely.change_speed(250)\n",
    "\n",
    "print(f'modelx.kinds: {modelx.kinds}')\n",
    "print(f'modely.kinds: {modely.kinds}')\n",
    "print(f'modelx.speed: {modelx.speed}')\n",
    "print(f'modely.speed: {modely.speed}')"
   ]
  },
  {
   "cell_type": "code",
   "execution_count": 11,
   "metadata": {},
   "outputs": [
    {
     "data": {
      "text/plain": [
       "1490187455824"
      ]
     },
     "execution_count": 11,
     "metadata": {},
     "output_type": "execute_result"
    }
   ],
   "source": [
    "id(Car.speed)\n",
    "id(modely.speed)"
   ]
  },
  {
   "cell_type": "code",
   "execution_count": 18,
   "metadata": {},
   "outputs": [
    {
     "name": "stdout",
     "output_type": "stream",
     "text": [
      "modelx.kinds: ['x']\n",
      "modely.kinds: ['y']\n",
      "modelx.speed: 100\n",
      "modely.speed: 100\n"
     ]
    }
   ],
   "source": [
    "# 이런식으로 해야 x, y kinds를 제각각 부여가 가능함\n",
    "class Car:\n",
    "    speed = 300\n",
    "\n",
    "    def __init__(self):\n",
    "        self.kinds = []  # 이제 각 객체는 자신만의 kinds 리스트를 가짐\n",
    "\n",
    "    def add_kinds(self, name):\n",
    "        self.kinds.append(name)\n",
    "\n",
    "    def change_speed(self, speed):\n",
    "        self.speed = speed\n",
    "\n",
    "modelx = Car()\n",
    "modely = Car()\n",
    "\n",
    "modelx.add_kinds('x')\n",
    "modely.add_kinds('y')\n",
    "\n",
    "Car.speed = 100\n",
    "\n",
    "# modelx.change_speed(500)\n",
    "# modely.change_speed(250)\n",
    "\n",
    "print(f'modelx.kinds: {modelx.kinds}')\n",
    "print(f'modely.kinds: {modely.kinds}')\n",
    "print(f'modelx.speed: {modelx.speed}')\n",
    "print(f'modely.speed: {modely.speed}')\n"
   ]
  },
  {
   "cell_type": "code",
   "execution_count": 20,
   "metadata": {},
   "outputs": [
    {
     "data": {
      "text/plain": [
       "100"
      ]
     },
     "execution_count": 20,
     "metadata": {},
     "output_type": "execute_result"
    }
   ],
   "source": [
    "x = 100\n",
    "def test():\n",
    "    x = 200 # 값을 읽어올 수 있지만 수정 x \n",
    "    \n",
    "x"
   ]
  },
  {
   "cell_type": "code",
   "execution_count": 21,
   "metadata": {},
   "outputs": [
    {
     "data": {
      "text/plain": [
       "200"
      ]
     },
     "execution_count": 21,
     "metadata": {},
     "output_type": "execute_result"
    }
   ],
   "source": [
    "x = 100\n",
    "def test():\n",
    "    global x \n",
    "    x = 200 # 전역변수 x 를 수정할 수 있게 됩니다 ! \n",
    "    \n",
    "test()\n",
    "x"
   ]
  },
  {
   "cell_type": "code",
   "execution_count": 22,
   "metadata": {},
   "outputs": [
    {
     "ename": "UnboundLocalError",
     "evalue": "local variable 'x' referenced before assignment",
     "output_type": "error",
     "traceback": [
      "\u001b[1;31m---------------------------------------------------------------------------\u001b[0m",
      "\u001b[1;31mUnboundLocalError\u001b[0m                         Traceback (most recent call last)",
      "\u001b[1;32mc:\\Users\\정식\\Desktop\\개발\\pythonStudy\\classPy.ipynb 셀 9\u001b[0m line \u001b[0;36m5\n\u001b[0;32m      <a href='vscode-notebook-cell:/c%3A/Users/%EC%A0%95%EC%8B%9D/Desktop/%EA%B0%9C%EB%B0%9C/pythonStudy/classPy.ipynb#X13sZmlsZQ%3D%3D?line=1'>2</a>\u001b[0m \u001b[39mdef\u001b[39;00m \u001b[39mtest\u001b[39m():\n\u001b[0;32m      <a href='vscode-notebook-cell:/c%3A/Users/%EC%A0%95%EC%8B%9D/Desktop/%EA%B0%9C%EB%B0%9C/pythonStudy/classPy.ipynb#X13sZmlsZQ%3D%3D?line=2'>3</a>\u001b[0m     x \u001b[39m+\u001b[39m\u001b[39m=\u001b[39m \u001b[39m100\u001b[39m\n\u001b[1;32m----> <a href='vscode-notebook-cell:/c%3A/Users/%EC%A0%95%EC%8B%9D/Desktop/%EA%B0%9C%EB%B0%9C/pythonStudy/classPy.ipynb#X13sZmlsZQ%3D%3D?line=4'>5</a>\u001b[0m test()\n",
      "\u001b[1;32mc:\\Users\\정식\\Desktop\\개발\\pythonStudy\\classPy.ipynb 셀 9\u001b[0m line \u001b[0;36m3\n\u001b[0;32m      <a href='vscode-notebook-cell:/c%3A/Users/%EC%A0%95%EC%8B%9D/Desktop/%EA%B0%9C%EB%B0%9C/pythonStudy/classPy.ipynb#X13sZmlsZQ%3D%3D?line=1'>2</a>\u001b[0m \u001b[39mdef\u001b[39;00m \u001b[39mtest\u001b[39m():\n\u001b[1;32m----> <a href='vscode-notebook-cell:/c%3A/Users/%EC%A0%95%EC%8B%9D/Desktop/%EA%B0%9C%EB%B0%9C/pythonStudy/classPy.ipynb#X13sZmlsZQ%3D%3D?line=2'>3</a>\u001b[0m     x \u001b[39m+\u001b[39m\u001b[39m=\u001b[39m \u001b[39m100\u001b[39m\n",
      "\u001b[1;31mUnboundLocalError\u001b[0m: local variable 'x' referenced before assignment"
     ]
    }
   ],
   "source": [
    "x = 100\n",
    "def test():\n",
    "    x += 100\n",
    "\n",
    "test() # 전역변수를 변경하는 것이 안된다."
   ]
  },
  {
   "cell_type": "code",
   "execution_count": 24,
   "metadata": {},
   "outputs": [
    {
     "data": {
      "text/plain": [
       "[10, 20, 30, 40]"
      ]
     },
     "execution_count": 24,
     "metadata": {},
     "output_type": "execute_result"
    }
   ],
   "source": [
    "# ★★★★★★★\n",
    "l = [10,20,30]\n",
    "def test(ll):\n",
    "    ll.append(40)\n",
    "\n",
    "test(l)\n",
    "l"
   ]
  },
  {
   "cell_type": "code",
   "execution_count": 25,
   "metadata": {},
   "outputs": [
    {
     "data": {
      "text/plain": [
       "[10, 20, 30]"
      ]
     },
     "execution_count": 25,
     "metadata": {},
     "output_type": "execute_result"
    }
   ],
   "source": [
    "l = [10,20,30]\n",
    "def test(ll):\n",
    "    ll = 100\n",
    "    \n",
    "test(l)\n",
    "l"
   ]
  },
  {
   "cell_type": "code",
   "execution_count": 27,
   "metadata": {},
   "outputs": [
    {
     "name": "stdout",
     "output_type": "stream",
     "text": [
      "<class 'function'>\n"
     ]
    }
   ],
   "source": [
    "def hello():\n",
    "    print('hello world')\n",
    "    \n",
    "print(type(hello)) # 출력 : <class : 'function'>"
   ]
  },
  {
   "cell_type": "code",
   "execution_count": 29,
   "metadata": {},
   "outputs": [
    {
     "ename": "AttributeError",
     "evalue": "'function' object has no attribute 'hi'",
     "output_type": "error",
     "traceback": [
      "\u001b[1;31m---------------------------------------------------------------------------\u001b[0m",
      "\u001b[1;31mAttributeError\u001b[0m                            Traceback (most recent call last)",
      "\u001b[1;32mc:\\Users\\정식\\Desktop\\개발\\pythonStudy\\classPy.ipynb 셀 13\u001b[0m line \u001b[0;36m1\n\u001b[1;32m----> <a href='vscode-notebook-cell:/c%3A/Users/%EC%A0%95%EC%8B%9D/Desktop/%EA%B0%9C%EB%B0%9C/pythonStudy/classPy.ipynb#X20sZmlsZQ%3D%3D?line=0'>1</a>\u001b[0m hello\u001b[39m.\u001b[39;49mhi()\n",
      "\u001b[1;31mAttributeError\u001b[0m: 'function' object has no attribute 'hi'"
     ]
    }
   ],
   "source": [
    "hello.hi()"
   ]
  },
  {
   "cell_type": "code",
   "execution_count": 30,
   "metadata": {},
   "outputs": [
    {
     "name": "stdout",
     "output_type": "stream",
     "text": [
      "10 20\n",
      "20 30\n",
      "30 50\n",
      "36.05551275463989\n"
     ]
    }
   ],
   "source": [
    "class Point:\n",
    "\n",
    "    def __init__(self, x, y):\n",
    "        self.x = x\n",
    "        self.y = y\n",
    "\n",
    "    def __add__(self, other):\n",
    "        if isinstance(other, Point):\n",
    "            return Point((self.x + other.x), (self.y + other.y))\n",
    "        elif isinstance(other, int) or isinstance(other, float):\n",
    "            return Point((self.x + other), (self.y + other))\n",
    "\n",
    "    def distance(self, other):\n",
    "        dx = self.x - other.x\n",
    "        dy = self.y - other.y\n",
    "        return (dx**2 + dy**2)**0.5\n",
    "\n",
    "dot1 = Point(10, 20)\n",
    "dot2 = Point(20, 30)\n",
    "\n",
    "dot3 = dot1 + 10\n",
    "print(dot1.x, dot1.y) # 출력: 10 20\n",
    "print(dot3.x, dot3.y) # 출력: 20 30\n",
    "\n",
    "dot4 = dot1 + dot2    # 여기서는 dot1의 add 를 호출하는 것이다. \n",
    "print(dot4.x, dot4.y) # 출력: 30 50\n",
    "print(dot4.distance(dot1)) # 출력: 36.05551275463989"
   ]
  },
  {
   "cell_type": "code",
   "execution_count": 31,
   "metadata": {},
   "outputs": [
    {
     "data": {
      "text/plain": [
       "1490282339376"
      ]
     },
     "execution_count": 31,
     "metadata": {},
     "output_type": "execute_result"
    }
   ],
   "source": [
    "id(dot4)"
   ]
  },
  {
   "cell_type": "code",
   "execution_count": 33,
   "metadata": {},
   "outputs": [
    {
     "name": "stdout",
     "output_type": "stream",
     "text": [
      "world\n"
     ]
    }
   ],
   "source": [
    "class Counter:\n",
    "    \n",
    "    def __init__(self):\n",
    "        self.num = 0\n",
    "\n",
    "    def __len__(self):\n",
    "        return 100\n",
    "\n",
    "    def __call__(self):\n",
    "        return 'hello'\n",
    "\n",
    "    def __getitem__(self, key):\n",
    "        return key*10\n",
    "    \n",
    "    def __str__(self):\n",
    "        return 'world'\n",
    "\n",
    "c = Counter()\n",
    "len(c)\n",
    "c()\n",
    "c[10]\n",
    "print(c) # __str__\n",
    "c # __repr__"
   ]
  },
  {
   "cell_type": "code",
   "execution_count": null,
   "metadata": {},
   "outputs": [],
   "source": []
  }
 ],
 "metadata": {
  "kernelspec": {
   "display_name": "Python 3",
   "language": "python",
   "name": "python3"
  },
  "language_info": {
   "codemirror_mode": {
    "name": "ipython",
    "version": 3
   },
   "file_extension": ".py",
   "mimetype": "text/x-python",
   "name": "python",
   "nbconvert_exporter": "python",
   "pygments_lexer": "ipython3",
   "version": "3.10.5"
  },
  "orig_nbformat": 4
 },
 "nbformat": 4,
 "nbformat_minor": 2
}
