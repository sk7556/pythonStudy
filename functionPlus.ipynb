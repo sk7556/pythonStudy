{
 "cells": [
  {
   "cell_type": "markdown",
   "metadata": {},
   "source": [
    "# args, kargs"
   ]
  },
  {
   "cell_type": "code",
   "execution_count": 1,
   "metadata": {},
   "outputs": [],
   "source": [
    "a, b, *c = 10,20,30,40,50"
   ]
  },
  {
   "cell_type": "code",
   "execution_count": 3,
   "metadata": {},
   "outputs": [
    {
     "name": "stdout",
     "output_type": "stream",
     "text": [
      "(100, True, 'Licat')\n",
      "100\n",
      "True\n",
      "Licat\n"
     ]
    }
   ],
   "source": [
    "def print_args(a, b, *args):\n",
    "    print(args)\n",
    "    for x in args:\n",
    "        print(x)\n",
    "\n",
    "print_args(100, True, 'Licat', 'hello', 10)"
   ]
  },
  {
   "cell_type": "code",
   "execution_count": 2,
   "metadata": {},
   "outputs": [
    {
     "ename": "TypeError",
     "evalue": "print_args() missing 1 required keyword-only argument: 'c'",
     "output_type": "error",
     "traceback": [
      "\u001b[1;31m---------------------------------------------------------------------------\u001b[0m",
      "\u001b[1;31mTypeError\u001b[0m                                 Traceback (most recent call last)",
      "\u001b[1;32mc:\\Users\\정식\\Desktop\\개발\\pythonStudy\\functionPlus.ipynb 셀 3\u001b[0m line \u001b[0;36m6\n\u001b[0;32m      <a href='vscode-notebook-cell:/c%3A/Users/%EC%A0%95%EC%8B%9D/Desktop/%EA%B0%9C%EB%B0%9C/pythonStudy/functionPlus.ipynb#W2sZmlsZQ%3D%3D?line=2'>3</a>\u001b[0m     \u001b[39mfor\u001b[39;00m x \u001b[39min\u001b[39;00m args:\n\u001b[0;32m      <a href='vscode-notebook-cell:/c%3A/Users/%EC%A0%95%EC%8B%9D/Desktop/%EA%B0%9C%EB%B0%9C/pythonStudy/functionPlus.ipynb#W2sZmlsZQ%3D%3D?line=3'>4</a>\u001b[0m         \u001b[39mprint\u001b[39m(x)\n\u001b[1;32m----> <a href='vscode-notebook-cell:/c%3A/Users/%EC%A0%95%EC%8B%9D/Desktop/%EA%B0%9C%EB%B0%9C/pythonStudy/functionPlus.ipynb#W2sZmlsZQ%3D%3D?line=5'>6</a>\u001b[0m print_args(\u001b[39m100\u001b[39;49m, \u001b[39mTrue\u001b[39;49;00m, \u001b[39m'\u001b[39;49m\u001b[39mLicat\u001b[39;49m\u001b[39m'\u001b[39;49m, \u001b[39m'\u001b[39;49m\u001b[39mhello\u001b[39;49m\u001b[39m'\u001b[39;49m, \u001b[39m10\u001b[39;49m)\n",
      "\u001b[1;31mTypeError\u001b[0m: print_args() missing 1 required keyword-only argument: 'c'"
     ]
    }
   ],
   "source": [
    "def print_args(a, b, *args, c): # *args뒤에 일반 변수를 선언하지 못합니다.\n",
    "    print(args)\n",
    "    for x in args:\n",
    "        print(x)\n",
    "\n",
    "print_args(100, True, 'Licat', 'hello', 10)"
   ]
  },
  {
   "cell_type": "code",
   "execution_count": 4,
   "metadata": {},
   "outputs": [
    {
     "ename": "SyntaxError",
     "evalue": "invalid syntax (1542542195.py, line 1)",
     "output_type": "error",
     "traceback": [
      "\u001b[1;36m  Cell \u001b[1;32mIn[4], line 1\u001b[1;36m\u001b[0m\n\u001b[1;33m    def print_args(a, b, *args, *c): # *args뒤에 또다르 가변 아규먼트를 넣지 못합니다\u001b[0m\n\u001b[1;37m                                ^\u001b[0m\n\u001b[1;31mSyntaxError\u001b[0m\u001b[1;31m:\u001b[0m invalid syntax\n"
     ]
    }
   ],
   "source": [
    "def print_args(a, b, *args, *c): # *args뒤에 또다른 가변 아규먼트를 넣지 못합니다.\n",
    "    print(args)\n",
    "    for x in args:\n",
    "        print(x)\n",
    "\n",
    "print_args(100, True, 'Licat', 'hello', 10)"
   ]
  },
  {
   "cell_type": "code",
   "execution_count": 5,
   "metadata": {},
   "outputs": [
    {
     "name": "stdout",
     "output_type": "stream",
     "text": [
      "('one', 'two')\n",
      "one\n",
      "two\n"
     ]
    }
   ],
   "source": [
    "def print_kwargs(*args):\n",
    "    print(args)\n",
    "    for i in args:\n",
    "        print(i)\n",
    "\n",
    "value = {'one':10, 'two':20}\n",
    "print_kwargs(*value)"
   ]
  },
  {
   "cell_type": "code",
   "execution_count": null,
   "metadata": {},
   "outputs": [],
   "source": [
    "def func(a, b, *, c, d):\n",
    "    print(a, b, c, d)\n",
    "\n",
    "# func(1, 2, c = 3, d = 4)  # 올바른 예시\n",
    "# func(1, 2, 3, d = 4)  # 잘못된 예시\n",
    "# func(1, 2, 3, 4)    # 잘못된 예시"
   ]
  },
  {
   "cell_type": "code",
   "execution_count": 7,
   "metadata": {},
   "outputs": [
    {
     "name": "stdout",
     "output_type": "stream",
     "text": [
      "1 2 3\n",
      "1 2 3\n"
     ]
    }
   ],
   "source": [
    "def func(a, b, c):\n",
    "    print(a, b, c)\n",
    "\n",
    "args = (1, 2, 3)\n",
    "func(*args)\n",
    "\n",
    "kwargs = {'a': 1, 'b': 2, 'c': 3}\n",
    "func(**kwargs)"
   ]
  },
  {
   "cell_type": "code",
   "execution_count": 8,
   "metadata": {},
   "outputs": [
    {
     "name": "stdout",
     "output_type": "stream",
     "text": [
      "1 2 3\n",
      "(1, 2, 3) 1 2 3\n",
      "1 2 3\n"
     ]
    },
    {
     "ename": "TypeError",
     "evalue": "'a' is an invalid keyword argument for print()",
     "output_type": "error",
     "traceback": [
      "\u001b[1;31m---------------------------------------------------------------------------\u001b[0m",
      "\u001b[1;31mTypeError\u001b[0m                                 Traceback (most recent call last)",
      "\u001b[1;32mc:\\Users\\정식\\Desktop\\개발\\pythonStudy\\functionPlus.ipynb 셀 9\u001b[0m line \u001b[0;36m1\n\u001b[0;32m      <a href='vscode-notebook-cell:/c%3A/Users/%EC%A0%95%EC%8B%9D/Desktop/%EA%B0%9C%EB%B0%9C/pythonStudy/functionPlus.ipynb#X12sZmlsZQ%3D%3D?line=7'>8</a>\u001b[0m kwargs \u001b[39m=\u001b[39m {\u001b[39m'\u001b[39m\u001b[39ma\u001b[39m\u001b[39m'\u001b[39m: \u001b[39m1\u001b[39m, \u001b[39m'\u001b[39m\u001b[39mb\u001b[39m\u001b[39m'\u001b[39m: \u001b[39m2\u001b[39m, \u001b[39m'\u001b[39m\u001b[39mc\u001b[39m\u001b[39m'\u001b[39m: \u001b[39m3\u001b[39m}\n\u001b[0;32m      <a href='vscode-notebook-cell:/c%3A/Users/%EC%A0%95%EC%8B%9D/Desktop/%EA%B0%9C%EB%B0%9C/pythonStudy/functionPlus.ipynb#X12sZmlsZQ%3D%3D?line=8'>9</a>\u001b[0m func(\u001b[39m*\u001b[39m\u001b[39m*\u001b[39mkwargs)\n\u001b[1;32m---> <a href='vscode-notebook-cell:/c%3A/Users/%EC%A0%95%EC%8B%9D/Desktop/%EA%B0%9C%EB%B0%9C/pythonStudy/functionPlus.ipynb#X12sZmlsZQ%3D%3D?line=9'>10</a>\u001b[0m \u001b[39mprint\u001b[39m(kwargs, \u001b[39m*\u001b[39m\u001b[39m*\u001b[39mkwargs) \u001b[39m# error\u001b[39;00m\n",
      "\u001b[1;31mTypeError\u001b[0m: 'a' is an invalid keyword argument for print()"
     ]
    }
   ],
   "source": [
    "def func(a, b, c):\n",
    "    print(a, b, c)\n",
    "\n",
    "args = (1, 2, 3)\n",
    "func(*args)\n",
    "print(args, *args)\n",
    "\n",
    "kwargs = {'a': 1, 'b': 2, 'c': 3}\n",
    "func(**kwargs)\n",
    "print(kwargs, **kwargs) # error"
   ]
  },
  {
   "cell_type": "code",
   "execution_count": 9,
   "metadata": {},
   "outputs": [
    {
     "name": "stdout",
     "output_type": "stream",
     "text": [
      "{'a': 1, 'b': 2, 'c': 3} a b c\n"
     ]
    }
   ],
   "source": [
    "kwargs = {'a': 1, 'b': 2, 'c': 3}\n",
    "print(kwargs, *kwargs)\n",
    "# print(kwargs, **kwargs) # 왜 에스터리스크가 2개일 때 error가 날까요?\n",
    "# print(kwargs, a=1, b=2, c=3) # 이 코드가 바로 위의 코드와 같습니다."
   ]
  },
  {
   "cell_type": "markdown",
   "metadata": {},
   "source": [
    "# 이터레이터"
   ]
  },
  {
   "cell_type": "code",
   "execution_count": 12,
   "metadata": {},
   "outputs": [
    {
     "name": "stdout",
     "output_type": "stream",
     "text": [
      "0\n",
      "1\n",
      "2\n",
      "3\n",
      "4\n"
     ]
    },
    {
     "data": {
      "text/plain": [
       "'\\n\\n\\n'"
      ]
     },
     "execution_count": 12,
     "metadata": {},
     "output_type": "execute_result"
    }
   ],
   "source": [
    "class MyIterator:\n",
    "    def __init__(self, stop):\n",
    "        self.current_value = 0  # 현재 값\n",
    "        self.stop = stop  # 순회를 멈출 값\n",
    "\n",
    "    def __iter__(self):\n",
    "        return self\n",
    "\n",
    "    def __next__(self):\n",
    "        if self.current_value >= self.stop:\n",
    "            raise StopIteration\n",
    "        result = self.current_value\n",
    "        self.current_value += 1\n",
    "        return result\n",
    "\n",
    "my_iterator = MyIterator(5)\n",
    "\n",
    "for i in my_iterator:\n",
    "    print(i)\n",
    "    \n",
    "'''\n",
    "\n",
    "\n",
    "'''"
   ]
  },
  {
   "cell_type": "markdown",
   "metadata": {},
   "source": [
    "# 제너레이터"
   ]
  },
  {
   "cell_type": "code",
   "execution_count": 13,
   "metadata": {},
   "outputs": [
    {
     "name": "stdout",
     "output_type": "stream",
     "text": [
      "10\n",
      "20\n",
      "30\n"
     ]
    }
   ],
   "source": [
    "def my_generator(data):\n",
    "    for i in data:\n",
    "        yield i * 10\n",
    "\n",
    "for i in my_generator([1, 2, 3]):\n",
    "    print(i)"
   ]
  },
  {
   "cell_type": "code",
   "execution_count": 14,
   "metadata": {},
   "outputs": [
    {
     "data": {
      "text/plain": [
       "[(0, '짝'), (1, '홀'), (2, '짝'), (3, '홀'), (4, '짝'), (5, '홀'), (6, '짝')]"
      ]
     },
     "execution_count": 14,
     "metadata": {},
     "output_type": "execute_result"
    }
   ],
   "source": [
    "# 이럴때 많이 사용합니다.\n",
    "def my_generator():\n",
    "    l = ['짝', '홀']\n",
    "    t = False\n",
    "    while True:\n",
    "        if t == False:\n",
    "            yield l[0]\n",
    "            t = True\n",
    "        else:\n",
    "            yield l[1]\n",
    "            t = False\n",
    "\n",
    "list(zip([0, 1, 2, 3, 4, 5, 6], my_generator()))"
   ]
  },
  {
   "cell_type": "markdown",
   "metadata": {},
   "source": [
    "gen = (i for i in range(2, 11, 2))\n",
    "for i in gen:\n",
    "    print(i)"
   ]
  },
  {
   "cell_type": "markdown",
   "metadata": {},
   "source": [
    "# ★★★★★★★★★★★★★★★★★★★★★"
   ]
  },
  {
   "cell_type": "code",
   "execution_count": 39,
   "metadata": {},
   "outputs": [
    {
     "data": {
      "text/plain": [
       "12000"
      ]
     },
     "execution_count": 39,
     "metadata": {},
     "output_type": "execute_result"
    }
   ],
   "source": [
    "Data = [['광어초밥', 1000], ['연어초밥', 2000], ['계란초밥', 3000], ['문어초밥', 4000], ['장어초밥', 5000]]\n",
    "\n",
    "def gen(Data):\n",
    "    for name,price in data:\n",
    "        if '어' in name:\n",
    "            yield price\n",
    "\n",
    "def solution(Data):\n",
    "    return sum(gen(Data))\n",
    "\n",
    "solution(Data)"
   ]
  },
  {
   "cell_type": "code",
   "execution_count": 20,
   "metadata": {},
   "outputs": [
    {
     "name": "stdout",
     "output_type": "stream",
     "text": [
      "{'a': 1, 'b': 2, 'c': 3} a b c\n"
     ]
    }
   ],
   "source": [
    "kwargs = {'a': 1, 'b': 2, 'c': 3}\n",
    "print(kwargs, *kwargs)"
   ]
  }
 ],
 "metadata": {
  "kernelspec": {
   "display_name": "Python 3",
   "language": "python",
   "name": "python3"
  },
  "language_info": {
   "codemirror_mode": {
    "name": "ipython",
    "version": 3
   },
   "file_extension": ".py",
   "mimetype": "text/x-python",
   "name": "python",
   "nbconvert_exporter": "python",
   "pygments_lexer": "ipython3",
   "version": "3.10.5"
  },
  "orig_nbformat": 4
 },
 "nbformat": 4,
 "nbformat_minor": 2
}
