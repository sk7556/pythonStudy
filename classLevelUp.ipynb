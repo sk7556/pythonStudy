{
 "cells": [
  {
   "cell_type": "code",
   "execution_count": null,
   "metadata": {},
   "outputs": [],
   "source": [
    "# 다이아몬드 상속의 경우 문제가 생길 수 있다 ( 파이썬 버전에 따라서 )\n",
    "\n",
    "# A -> B -> C 순서대로 상속을 받는데, 여기서 A -> C -> B 같은 식으로 상속을 꼬게 되면 \n",
    "# MRO 에러가 나게된다 ( 설계하는 단계에서 살펴봐야함 ) "
   ]
  },
  {
   "cell_type": "markdown",
   "metadata": {},
   "source": [
    "# 클래스와 정적 메서드"
   ]
  },
  {
   "cell_type": "code",
   "execution_count": 7,
   "metadata": {},
   "outputs": [
    {
     "name": "stdout",
     "output_type": "stream",
     "text": [
      "1\n",
      "1 1\n",
      "2 2\n",
      "3 3\n"
     ]
    }
   ],
   "source": [
    "# 클래스 메서드\n",
    "# 클래스 안에 있는 요소들을 조작하려는 메서드 . \n",
    "class MyClass:\n",
    "    count = 0\n",
    "\n",
    "    @classmethod\n",
    "    def increment(cls):\n",
    "        cls.count += 1\n",
    "\n",
    "a = MyClass()\n",
    "b = MyClass()\n",
    "\n",
    "MyClass.increment()\n",
    "print(MyClass.count) # 출력: 1\n",
    "\n",
    "print(a.count, b.count)\n",
    "\n",
    "MyClass.increment()\n",
    "\n",
    "print(a.count, b.count)\n",
    "\n",
    "MyClass.increment()\n",
    "\n",
    "print(a.count, b.count)"
   ]
  },
  {
   "cell_type": "code",
   "execution_count": 9,
   "metadata": {},
   "outputs": [
    {
     "ename": "NameError",
     "evalue": "name 'count' is not defined",
     "output_type": "error",
     "traceback": [
      "\u001b[0;31m---------------------------------------------------------------------------\u001b[0m",
      "\u001b[0;31mNameError\u001b[0m                                 Traceback (most recent call last)",
      "\u001b[1;32m/Users/jungsik/pythonStudy/classLevelUp.ipynb 셀 4\u001b[0m line \u001b[0;36m1\n\u001b[1;32m      <a href='vscode-notebook-cell:/Users/jungsik/pythonStudy/classLevelUp.ipynb#W4sZmlsZQ%3D%3D?line=8'>9</a>\u001b[0m         \u001b[39mprint\u001b[39m(count) \u001b[39m# 이런식으로 외부에서의 변수를 불러오는 것이 불가핟다 \u001b[39;00m\n\u001b[1;32m     <a href='vscode-notebook-cell:/Users/jungsik/pythonStudy/classLevelUp.ipynb#W4sZmlsZQ%3D%3D?line=9'>10</a>\u001b[0m         \u001b[39mreturn\u001b[39;00m x \u001b[39m+\u001b[39m y\n\u001b[0;32m---> <a href='vscode-notebook-cell:/Users/jungsik/pythonStudy/classLevelUp.ipynb#W4sZmlsZQ%3D%3D?line=11'>12</a>\u001b[0m \u001b[39mprint\u001b[39m(MyClass\u001b[39m.\u001b[39;49mmy_method(\u001b[39m5\u001b[39;49m, \u001b[39m3\u001b[39;49m))  \u001b[39m# 출력: 8\u001b[39;00m\n",
      "\u001b[1;32m/Users/jungsik/pythonStudy/classLevelUp.ipynb 셀 4\u001b[0m line \u001b[0;36m9\n\u001b[1;32m      <a href='vscode-notebook-cell:/Users/jungsik/pythonStudy/classLevelUp.ipynb#W4sZmlsZQ%3D%3D?line=6'>7</a>\u001b[0m \u001b[39m@staticmethod\u001b[39m\n\u001b[1;32m      <a href='vscode-notebook-cell:/Users/jungsik/pythonStudy/classLevelUp.ipynb#W4sZmlsZQ%3D%3D?line=7'>8</a>\u001b[0m \u001b[39mdef\u001b[39;00m \u001b[39mmy_method\u001b[39m(x, y):\n\u001b[0;32m----> <a href='vscode-notebook-cell:/Users/jungsik/pythonStudy/classLevelUp.ipynb#W4sZmlsZQ%3D%3D?line=8'>9</a>\u001b[0m     \u001b[39mprint\u001b[39m(count) \u001b[39m# 이런식으로 외부에서의 변수를 불러오는 것이 불가핟다 \u001b[39;00m\n\u001b[1;32m     <a href='vscode-notebook-cell:/Users/jungsik/pythonStudy/classLevelUp.ipynb#W4sZmlsZQ%3D%3D?line=9'>10</a>\u001b[0m     \u001b[39mreturn\u001b[39;00m x \u001b[39m+\u001b[39m y\n",
      "\u001b[0;31mNameError\u001b[0m: name 'count' is not defined"
     ]
    }
   ],
   "source": [
    "# staticmathod 스태틱 메서드 \n",
    "\n",
    "class MyClass:\n",
    "    \n",
    "    count = 0;\n",
    "    \n",
    "    @staticmethod\n",
    "    def my_method(x, y):\n",
    "        print(count) # 이런식으로 외부에서의 변수를 불러오는 것이 불가핟다 \n",
    "        return x + y\n",
    "\n",
    "print(MyClass.my_method(5, 3))  # 출력: 8"
   ]
  },
  {
   "cell_type": "code",
   "execution_count": 13,
   "metadata": {},
   "outputs": [
    {
     "data": {
      "text/plain": [
       "'총학점 : 120, 학점평균 :3.225 으로 졸업함'"
      ]
     },
     "execution_count": 13,
     "metadata": {},
     "output_type": "execute_result"
    }
   ],
   "source": [
    "# 스태틱 연습\n",
    "# 중간에 총학점이 120에서 60으로 변경되게 되어서 일부는 조기졸업이 가능하게됨\n",
    "class 학점관리시스템 : \n",
    "    학점총점 = 120 \n",
    "    \n",
    "    def __init__(self):\n",
    "        self.학기점수 = []\n",
    "    \n",
    "    def 학점추가(self, 이번학기점수):\n",
    "        self.학기점수.append(이번학기점수)\n",
    "        \n",
    "    def 학점평균(self):\n",
    "        # 여기 변수들이 중복되거나 하면 빼주는게 필요함\n",
    "        return sum(self.학기점수)/len(self.학기점수)\n",
    "    \n",
    "    def 졸업장출력(self):\n",
    "        return f'총학점 : {self.학점총점}, 학점평균 :{self.학점평균()} 으로 졸업함'\n",
    "    \n",
    "피카츄 = 학점관리시스템()\n",
    "꼬부기 = 학점관리시스템()\n",
    "\n",
    "\n",
    "피카츄.학점추가(3.2)\n",
    "피카츄.학점추가(4)\n",
    "피카츄.학점추가(2.2)\n",
    "피카츄.학점추가(3.5)\n",
    "\n",
    "# 피카츄.학점평균()\n",
    "피카츄.졸업장출력()\n"
   ]
  },
  {
   "cell_type": "code",
   "execution_count": 21,
   "metadata": {},
   "outputs": [
    {
     "name": "stdout",
     "output_type": "stream",
     "text": [
      "총학점 60학점, 3.125으로 졸업하셨습니다.\n",
      "총학점 60학점, 3.0으로 졸업하셨습니다.\n"
     ]
    }
   ],
   "source": [
    "# 스토리 : 중간에 총학점이 120학점에서 60학점으로 바뀌어서 조기졸업을 할 수 있게 되었습니다!\n",
    "class 학사정보시스템:\n",
    "    학점총점 = 120\n",
    "\n",
    "    def __init__(self):\n",
    "        self.학기점수 = []\n",
    "\n",
    "    def 학점추가(self, 이번학기점수):\n",
    "        self.학기점수.append(이번학기점수)\n",
    "\n",
    "    def 학점평균(self):\n",
    "        return sum(self.학기점수)/len(self.학기점수)\n",
    "\n",
    "    def 졸업장출력(self):\n",
    "        return f'총학점 {self.학점총점}학점, {self.학점평균()}으로 졸업하셨습니다.'\n",
    "    \n",
    "    @classmethod # 이것을 추가해둬야 하는데, cls는 self와 같은 역할을 한다\n",
    "    def 학점총점변경(cls, 총점):\n",
    "        if isinstance(총점, int):\n",
    "            cls.학점총점 = 총점\n",
    "            return '변경됨'\n",
    "        return '변경안됨'\n",
    "        \n",
    "\n",
    "피카츄 = 학사정보시스템()\n",
    "꼬부기 = 학사정보시스템()\n",
    "\n",
    "피카츄.학점추가(3.2)\n",
    "피카츄.학점추가(3.5)\n",
    "학사정보시스템.학점총점 = '60' # 위험한 상황, 숫자가 들어가야 하는데 문자가 들어갔습니다.\n",
    "# 만약에 학점총점으로 들어가는 산술 연산되는 메서드가 있었다면 이제 그 메서드는 오류를 냅니다.\n",
    "피카츄.학점추가(3.0)\n",
    "피카츄.학점추가(2.8)\n",
    "\n",
    "피카츄.학점평균()\n",
    "print(피카츄.졸업장출력())\n",
    "\n",
    "꼬부기.학점추가(3.0)\n",
    "print(꼬부기.졸업장출력()) # 둘 다 변한 것을 확인할 수 있습니다."
   ]
  },
  {
   "cell_type": "code",
   "execution_count": null,
   "metadata": {},
   "outputs": [],
   "source": [
    "# 내가 학사경고인지를 알고 싶다\n",
    "\n",
    "class 학사정보시스템:\n",
    "    학점총점 = 120\n",
    "\n",
    "    def __init__(self):\n",
    "        self.학기점수 = []\n",
    "\n",
    "    def 학점추가(self, 이번학기점수):\n",
    "        self.학기점수.append(이번학기점수)\n",
    "\n",
    "    def 학점평균(self):\n",
    "        return sum(self.학기점수)/len(self.학기점수)\n",
    "\n",
    "    def 졸업장출력(self):\n",
    "        return f'총학점 {self.학점총점}학점, {self.학점평균()}으로 졸업하셨습니다.'\n",
    "\n",
    "    # 내부에서 클래스 변수 인스턴스 변수 수정하는것이 가능하지 않다 \n",
    "    @staticmethod\n",
    "    def 학사경고(이번학기점수):\n",
    "        if 이번학기점수 - 1.5 > 0 :\n",
    "            return '학사경고아님!'\n",
    "        \n",
    "        return '학사경고!'\n",
    "    \n",
    "    \n",
    "    @classmethod\n",
    "    def 학점총점변경(cls, 총점):\n",
    "        if isinstance(총점, int):\n",
    "            cls.학점총점 = 총점\n",
    "            return '변경됨'\n",
    "        return '변경안됨'"
   ]
  },
  {
   "cell_type": "code",
   "execution_count": 1,
   "metadata": {},
   "outputs": [
    {
     "name": "stdout",
     "output_type": "stream",
     "text": [
      "li\n",
      "cat\n",
      "licat\n"
     ]
    }
   ],
   "source": [
    "# \n",
    "class Person:\n",
    "    def __init__(self, first_name, last_name):\n",
    "        self._first_name = first_name\n",
    "        self._last_name = last_name\n",
    "\n",
    "    @property\n",
    "    def full_name(self):\n",
    "        return f'{self._first_name}{self._last_name}'\n",
    "\n",
    "licat = Person('li', 'cat')\n",
    "print(licat._first_name)\n",
    "print(licat._last_name)\n",
    "print(licat.full_name)\n",
    "# print(licat.full_name())"
   ]
  },
  {
   "cell_type": "markdown",
   "metadata": {},
   "source": [
    "# 추상 클래스와 인터페이스\n",
    "기본적으로 구현하지 않아도 되는 메서드(추상메서드)를 가진 클래스"
   ]
  },
  {
   "cell_type": "code",
   "execution_count": 3,
   "metadata": {},
   "outputs": [
    {
     "ename": "TypeError",
     "evalue": "Can't instantiate abstract class Hero with abstract methods move, 밥먹기",
     "output_type": "error",
     "traceback": [
      "\u001b[1;31m---------------------------------------------------------------------------\u001b[0m",
      "\u001b[1;31mTypeError\u001b[0m                                 Traceback (most recent call last)",
      "\u001b[1;32mc:\\Users\\정식\\Desktop\\개발\\pythonStudy\\classLevelUp.ipynb 셀 10\u001b[0m line \u001b[0;36m2\n\u001b[0;32m     <a href='vscode-notebook-cell:/c%3A/Users/%EC%A0%95%EC%8B%9D/Desktop/%EA%B0%9C%EB%B0%9C/pythonStudy/classLevelUp.ipynb#X21sZmlsZQ%3D%3D?line=15'>16</a>\u001b[0m     \u001b[39mdef\u001b[39;00m \u001b[39m날아다니기\u001b[39m(\u001b[39mself\u001b[39m):\n\u001b[0;32m     <a href='vscode-notebook-cell:/c%3A/Users/%EC%A0%95%EC%8B%9D/Desktop/%EA%B0%9C%EB%B0%9C/pythonStudy/classLevelUp.ipynb#X21sZmlsZQ%3D%3D?line=16'>17</a>\u001b[0m         \u001b[39mpass\u001b[39;00m\n\u001b[1;32m---> <a href='vscode-notebook-cell:/c%3A/Users/%EC%A0%95%EC%8B%9D/Desktop/%EA%B0%9C%EB%B0%9C/pythonStudy/classLevelUp.ipynb#X21sZmlsZQ%3D%3D?line=19'>20</a>\u001b[0m ironman \u001b[39m=\u001b[39m Hero()\n\u001b[0;32m     <a href='vscode-notebook-cell:/c%3A/Users/%EC%A0%95%EC%8B%9D/Desktop/%EA%B0%9C%EB%B0%9C/pythonStudy/classLevelUp.ipynb#X21sZmlsZQ%3D%3D?line=20'>21</a>\u001b[0m ironman\u001b[39m.\u001b[39mmove()\n",
      "\u001b[1;31mTypeError\u001b[0m: Can't instantiate abstract class Hero with abstract methods move, 밥먹기"
     ]
    }
   ],
   "source": [
    "from abc import ABC, abstractmethod\n",
    "\n",
    "class Person(ABC): # ABC를 상속받고\n",
    "\n",
    "    @abstractmethod # abstractmethod라고 선언을 하면\n",
    "    def move(self):\n",
    "        pass\n",
    "    \n",
    "    @abstractmethod\n",
    "    def 밥먹기(self):\n",
    "        pass\n",
    "\n",
    "\n",
    "class Hero(Person): # 상속받은 자식에서 반드시 메서드 오버라이딩이 일어나야 합니다.\n",
    "\n",
    "    def 날아다니기(self):\n",
    "        pass\n",
    "\n",
    "\n",
    "ironman = Hero()\n",
    "ironman.move()"
   ]
  },
  {
   "cell_type": "code",
   "execution_count": 4,
   "metadata": {},
   "outputs": [],
   "source": [
    "from abc import ABC, abstractmethod\n",
    "\n",
    "class Person:\n",
    "    def move(self):\n",
    "        pass\n",
    "\n",
    "\n",
    "class Hero(Person):\n",
    "    pass\n",
    "\n",
    "\n",
    "ironman = Hero()\n",
    "ironman.move()"
   ]
  },
  {
   "cell_type": "code",
   "execution_count": 7,
   "metadata": {},
   "outputs": [
    {
     "name": "stdout",
     "output_type": "stream",
     "text": [
      "움직인다\n"
     ]
    }
   ],
   "source": [
    "from abc import ABC, abstractmethod\n",
    "\n",
    "class Person(ABC): # ABC를 상속받고\n",
    "\n",
    "    @abstractmethod # abstractmethod라고 선언을 하면\n",
    "    def move(self):\n",
    "        pass\n",
    "\n",
    "\n",
    "class Hero(Person): # 상속받은 자식에서 반드시 메서드 오버라이딩이 일어나야 합니다.\n",
    "    def move(self):\n",
    "        print('움직인다')\n",
    "\n",
    "ironman = Hero()\n",
    "ironman.move()"
   ]
  },
  {
   "cell_type": "markdown",
   "metadata": {},
   "source": [
    "# 비공개속성"
   ]
  },
  {
   "cell_type": "code",
   "execution_count": 11,
   "metadata": {},
   "outputs": [
    {
     "name": "stdout",
     "output_type": "stream",
     "text": [
      "10\n"
     ]
    }
   ],
   "source": [
    "# 파이썬에서는 변수를 숨기는게 기본적으로 불가능하다 !\n",
    "\n",
    "# 비공개 속성이 조작 불가능한게 아닙니다!\n",
    "class MyClass:\n",
    "    __a = 10\n",
    "    _a = 100\n",
    "    b = 20\n",
    "\n",
    "    def __init__(self, c, d):\n",
    "        self.__c = c\n",
    "        self.d = d\n",
    "\n",
    "# MyClass.__a\n",
    "test = MyClass(30, 40)\n",
    "# test.__a # 오!? 접근이 가능하지 않네 => 오해입니다.\n",
    "print(test._MyClass__a) # 네임 맹글링으로 만들어진 것들을 볼 수 있다"
   ]
  },
  {
   "cell_type": "code",
   "execution_count": null,
   "metadata": {},
   "outputs": [],
   "source": []
  }
 ],
 "metadata": {
  "kernelspec": {
   "display_name": "Python 3",
   "language": "python",
   "name": "python3"
  },
  "language_info": {
   "codemirror_mode": {
    "name": "ipython",
    "version": 3
   },
   "file_extension": ".py",
   "mimetype": "text/x-python",
   "name": "python",
   "nbconvert_exporter": "python",
   "pygments_lexer": "ipython3",
   "version": "3.10.5"
  },
  "orig_nbformat": 4
 },
 "nbformat": 4,
 "nbformat_minor": 2
}
