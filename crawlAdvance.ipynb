{
 "cells": [
  {
   "cell_type": "code",
   "execution_count": 4,
   "metadata": {},
   "outputs": [
    {
     "data": {
      "text/plain": [
       "<tr>\n",
       "<td align=\"center\"><span class=\"date\">2019.09.24</span></td>\n",
       "<td class=\"num\"><span>2,065</span></td>\n",
       "<td class=\"num\">\n",
       "<img alt=\"상승\" height=\"6\" src=\"ico_up.gif\" style=\"margin-right:4px;\" width=\"7\"/><span>\n",
       "                            30\n",
       "                        </span>\n",
       "</td>\n",
       "<td class=\"num\"><span>2,020</span></td>\n",
       "<td class=\"num\"><span>2,090</span></td>\n",
       "<td class=\"num\"><span>2,020</span></td>\n",
       "<td class=\"num\"><span>139,085</span></td>\n",
       "</tr>"
      ]
     },
     "execution_count": 4,
     "metadata": {},
     "output_type": "execute_result"
    }
   ],
   "source": [
    "# 문제1 https://www.paullab.co.kr/stock.html 서비스를 크롤링하여 제주코딩베이스캠프 연구원의 2019년 10월 총 거래량을 구해주세요.\n",
    "\n",
    "class DailyTradingVolume:\n",
    "    def __init__(self, 날짜, 종가, 전일비, 시가, 고가, 저가, 거래량):\n",
    "        self.날짜 = 날짜\n",
    "        self.종가 = 종가\n",
    "        self.전일비 = 전일비\n",
    "        self.시가 = 시가\n",
    "        self.고가 = 고가\n",
    "        self.저가 = 저가\n",
    "        self.거래량 = 거래량\n",
    "        \n",
    "class PublicCompany:\n",
    "    def __init__(self, 시가총액, 상장주식수, 매출, 비용, 순익):\n",
    "        self.시가총액 = 시가총액\n",
    "        self.상장주식수 = 상장주식수\n",
    "        self.매출 = 매출\n",
    "        self.비용 = 비용\n",
    "        self.순익 = 순익\n",
    "        self.거래량 = [] # 여기를 좀 더 고도화하는 편이 좋아보입니다\n",
    "\n",
    "제코베연구원 = PublicCompany(시가총액 = 100,\n",
    "                       상장주식수 = 100,\n",
    "                       매출 = 100,\n",
    "                       비용 = 100,\n",
    "                       순익 = 100)\n",
    "        \n",
    "제코베연구원.매출\n",
    "\n",
    "\n",
    "import requests\n",
    "from bs4 import BeautifulSoup\n",
    "import re\n",
    "\n",
    "# 문제1 https://www.paullab.co.kr/stock.html \n",
    "# 서비스를 크롤링하여 제주코딩베이스캠프 연구원의 2019년 10월 총 거래량을 구해주세요.\n",
    "\n",
    "request = requests.get('https://www.paullab.co.kr/stock.html')\n",
    "html = request.text\n",
    "soup = BeautifulSoup(html, 'html.parser')\n",
    "\n",
    "soup.select('.main > table > tbody > tr')[1]\n",
    "soup.select('.main > table > tbody > tr')[2]\n",
    "soup.select('.main > table > tbody > tr')[-1]"
   ]
  },
  {
   "cell_type": "code",
   "execution_count": 6,
   "metadata": {},
   "outputs": [
    {
     "ename": "AttributeError",
     "evalue": "'PublicCompany' object has no attribute '거래'",
     "output_type": "error",
     "traceback": [
      "\u001b[1;31m---------------------------------------------------------------------------\u001b[0m",
      "\u001b[1;31mAttributeError\u001b[0m                            Traceback (most recent call last)",
      "\u001b[1;32mc:\\Users\\정식\\Desktop\\개발\\pythonStudy\\crawlAdvance.ipynb 셀 2\u001b[0m line \u001b[0;36m2\n\u001b[0;32m     <a href='vscode-notebook-cell:/c%3A/Users/%EC%A0%95%EC%8B%9D/Desktop/%EA%B0%9C%EB%B0%9C/pythonStudy/crawlAdvance.ipynb#W1sZmlsZQ%3D%3D?line=19'>20</a>\u001b[0m 저가 \u001b[39m=\u001b[39m i\u001b[39m.\u001b[39mselect(\u001b[39m'\u001b[39m\u001b[39mtd\u001b[39m\u001b[39m'\u001b[39m)[\u001b[39m0\u001b[39m]\u001b[39m.\u001b[39mtext\n\u001b[0;32m     <a href='vscode-notebook-cell:/c%3A/Users/%EC%A0%95%EC%8B%9D/Desktop/%EA%B0%9C%EB%B0%9C/pythonStudy/crawlAdvance.ipynb#W1sZmlsZQ%3D%3D?line=20'>21</a>\u001b[0m 거래량 \u001b[39m=\u001b[39m i\u001b[39m.\u001b[39mselect(\u001b[39m'\u001b[39m\u001b[39mtd\u001b[39m\u001b[39m'\u001b[39m)[\u001b[39m0\u001b[39m]\u001b[39m.\u001b[39mtext\n\u001b[1;32m---> <a href='vscode-notebook-cell:/c%3A/Users/%EC%A0%95%EC%8B%9D/Desktop/%EA%B0%9C%EB%B0%9C/pythonStudy/crawlAdvance.ipynb#W1sZmlsZQ%3D%3D?line=22'>23</a>\u001b[0m 제코베연구원\u001b[39m.\u001b[39;49m거래\n",
      "\u001b[1;31mAttributeError\u001b[0m: 'PublicCompany' object has no attribute '거래'"
     ]
    }
   ],
   "source": [
    "'''\n",
    "<tr>\n",
    "<th scope=\"col\">날짜</th>\n",
    "<th scope=\"col\">종가</th>\n",
    "<th scope=\"col\">전일비</th>\n",
    "<th scope=\"col\">시가</th>\n",
    "<th scope=\"col\">고가</th>\n",
    "<th scope=\"col\">저가</th>\n",
    "<th scope=\"col\">거래량</th>\n",
    "</tr>\n",
    "'''\n",
    "# print(type(soup.select('.main > table')[0]))\n",
    "# print(type(soup))\n",
    "for i in soup.select('.main > table')[0].select('tr')[1:]:\n",
    "    # print(i.select('td')[0].text)\n",
    "    날짜 = i.select('td')[0].text\n",
    "    종가 = i.select('td')[0].text\n",
    "    전일비 = i.select('td')[0].text\n",
    "    시가 = i.select('td')[0].text\n",
    "    저가 = i.select('td')[0].text\n",
    "    거래량 = i.select('td')[0].text\n",
    "    \n",
    "    제코베연구원.거래\n",
    "    "
   ]
  },
  {
   "cell_type": "code",
   "execution_count": null,
   "metadata": {},
   "outputs": [],
   "source": []
  }
 ],
 "metadata": {
  "kernelspec": {
   "display_name": "Python 3",
   "language": "python",
   "name": "python3"
  },
  "language_info": {
   "codemirror_mode": {
    "name": "ipython",
    "version": 3
   },
   "file_extension": ".py",
   "mimetype": "text/x-python",
   "name": "python",
   "nbconvert_exporter": "python",
   "pygments_lexer": "ipython3",
   "version": "3.10.5"
  },
  "orig_nbformat": 4
 },
 "nbformat": 4,
 "nbformat_minor": 2
}
