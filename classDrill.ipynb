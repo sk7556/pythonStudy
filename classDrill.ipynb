{
 "cells": [
  {
   "cell_type": "markdown",
   "metadata": {},
   "source": [
    "# 연습문제\n",
    "\n",
    "게임에서 캐릭터를 구현할 예정입니다. 아래 클래스를 적절하게 조합하여 만들어주세요\n",
    "아래 클래스를 조합하여 \"히어로 인스턴스\"를 만들어주세요\n",
    "\n",
    "1. class Body              # 능력치 \n",
    "2. class Weapon            # 무기\n",
    "3. class weaponEnhencement # 무기강화\n",
    "4. class skill      # 기술\n",
    "5. class Equipment  # 장비 \n",
    "6. class characters # 히어로인지 빌런인지 몹인지 구분"
   ]
  },
  {
   "cell_type": "code",
   "execution_count": 35,
   "metadata": {},
   "outputs": [
    {
     "name": "stdout",
     "output_type": "stream",
     "text": [
      "힘 : 20, 지능 : 11, 체력 : 17, 스피드 : 14\n"
     ]
    }
   ],
   "source": [
    "# 능력치\n",
    "class Body:\n",
    "\n",
    "# str = 0\n",
    "# int = 0\n",
    "# con = 0\n",
    "# spd = 0\n",
    "\n",
    "    def __init__(self, STR, INT, CON, SPD):\n",
    "        self.STR = STR\n",
    "        self.INT = INT\n",
    "        self.CON = CON\n",
    "        self.SPD = SPD\n",
    "        print(f'힘 : {self.STR}, 지능 : {self.INT}, 체력 : {self.CON}, 스피드 : {self.SPD}')\n",
    "    \n",
    "    \n",
    "기사 = Body(20,11,17,14)\n"
   ]
  },
  {
   "cell_type": "code",
   "execution_count": 36,
   "metadata": {},
   "outputs": [
    {
     "name": "stdout",
     "output_type": "stream",
     "text": [
      "공격력 : 500, 타입 : SWORD, 가격 : 200000원, 최대내구도 : 300\n"
     ]
    }
   ],
   "source": [
    "# 무기\n",
    "class Weapon:\n",
    "    \n",
    "    def __init__(self, ATK, TYPE, PRICE, DUR): # 공격력, 타입, 가격, 최대내구도\n",
    "        self.ATK = ATK\n",
    "        self.TYPE = TYPE\n",
    "        self.PRICE = PRICE\n",
    "        self.DUR = DUR\n",
    "        print(f'공격력 : {self.ATK}, 타입 : {self.TYPE}, 가격 : {self.PRICE}원, 최대내구도 : {self.DUR}')\n",
    "\n",
    "그레이트소드 = Weapon(500, 'SWORD', 200000, 300)\n",
    "        "
   ]
  },
  {
   "cell_type": "code",
   "execution_count": 66,
   "metadata": {},
   "outputs": [
    {
     "name": "stdout",
     "output_type": "stream",
     "text": [
      "공격력 : 330.0, 강화 비용 : 500.0\n"
     ]
    }
   ],
   "source": [
    "# 무기 강화\n",
    "class weaponEnhencement:\n",
    "    \n",
    "    \n",
    "    \n",
    "    def __init__(self, Weapon): # 강화할 무기를 입력 받음\n",
    "                                # 무기의 가격에 따라 강화 비용 설정\n",
    "        self.ATK = Weapon.ATK\n",
    "        self.enhencePRICE = Weapon.PRICE / 10\n",
    "        self.totalPRICE = 0\n",
    "        \n",
    "    def enhence(self): # 강화하면 무기 강화 및 ATK 상승\n",
    "                                               # 설정된 강화비용만큼 소모 \n",
    "        self.ATK += self.ATK / 10\n",
    "        self.totalPRICE += self.enhencePRICE\n",
    "        print(f'공격력 : {self.ATK}, 강화 비용 : {self.totalPRICE}')\n",
    "\n",
    "그소강화 = weaponEnhencement(그레이트소드)\n",
    "그소강화.enhence()"
   ]
  },
  {
   "cell_type": "code",
   "execution_count": 39,
   "metadata": {},
   "outputs": [
    {
     "name": "stdout",
     "output_type": "stream",
     "text": [
      "스킬이름 : 이럽션, 스킬타입 : 마법, 데미지 : 1000\n"
     ]
    }
   ],
   "source": [
    "# 스킬\n",
    "class Skill : # 스킬 이름, 스킬 타입. \n",
    "    \n",
    "    def __init__(self, skillNAME, skillTYPE, skillDAMAGE):\n",
    "        self.skillNAME = skillNAME\n",
    "        self.skillTYPE = skillTYPE\n",
    "        self.skillDAMAGE = skillDAMAGE\n",
    "        print(f'스킬이름 : {self.skillNAME}, 스킬타입 : {self.skillTYPE}, 데미지 : {self.skillDAMAGE}')\n",
    "        \n",
    "이럽션 = Skill('이럽션','마법','1000')"
   ]
  },
  {
   "cell_type": "code",
   "execution_count": 40,
   "metadata": {},
   "outputs": [
    {
     "name": "stdout",
     "output_type": "stream",
     "text": [
      "장비이름 : 바람의두루마기, 장비부위 : 상의, 방어력 : 50\n"
     ]
    }
   ],
   "source": [
    "# 장비 \n",
    "class Equipment :\n",
    "    \n",
    "    def __init__(self, equipNAME, equipTYPENUM, equipDEFENSE):\n",
    "        self.equipNAME = equipNAME\n",
    "        self.equipTYPENUM = equipTYPENUM\n",
    "        self.equipDEFENSE = equipDEFENSE\n",
    "        \n",
    "        def armor_part(equipTYPENUM):\n",
    "            match equipTYPENUM:\n",
    "                case 1:\n",
    "                    return \"상의\"\n",
    "                case 2:\n",
    "                    return \"하의\"\n",
    "                case 3:\n",
    "                    return \"어깨\"\n",
    "                case 4:\n",
    "                    return \"허리\"\n",
    "                case 5:\n",
    "                    return \"신발\"\n",
    "                case _:\n",
    "                    return \"유효하지 않은 번호입니다.\"\n",
    "        \n",
    "        \n",
    "        \n",
    "        print(f'장비이름 : {self.equipNAME}, 장비부위 : {armor_part(equipTYPENUM)}, 방어력 : {self.equipDEFENSE}')\n",
    "\n",
    "\n",
    "바람의두루마기 = Equipment('바람의두루마기',1,'50')"
   ]
  },
  {
   "cell_type": "code",
   "execution_count": 44,
   "metadata": {},
   "outputs": [
    {
     "name": "stdout",
     "output_type": "stream",
     "text": [
      "힘 : 20, 지능 : 20, 체력 : 30, 스피드 : 15\n",
      "공격력 : 777, 타입 : SWORD, 가격 : 50000원, 최대내구도 : 300\n",
      "스킬이름 : 이럽션, 스킬타입 : 마법, 데미지 : 3000\n",
      "장비이름 : 마법사의로브, 장비부위 : 상의, 방어력 : 30\n"
     ]
    }
   ],
   "source": [
    "\n",
    "# 캐릭터 클래스 \n",
    "# 위의 정보들을 받아 캐릭터 인스턴스를 만들기 위한 준비를 합니다 \n",
    "# 캐릭터의 Role 을 구분하는 변수 필요\n",
    "\n",
    "class Character(Body, Weapon, Equipment, Skill):\n",
    "    \n",
    "    def __init__(self, NAME, ROLE, STR, INT, CON, SPD,ATK, TYPE, PRICE, DUR,skillNAME, skillTYPE, skillDAMAGE,  equipNAME, equipTYPENUM, equipDEFENSE):\n",
    "        self.NAME = NAME\n",
    "        self.ROLE = ROLE\n",
    "        Body.__init__(self, STR, INT, CON, SPD)\n",
    "        Weapon.__init__(self, ATK, TYPE, PRICE, DUR)\n",
    "        Skill.__init__(self, skillNAME, skillTYPE, skillDAMAGE)\n",
    "        Equipment.__init__(self, equipNAME, equipTYPENUM, equipDEFENSE)\n",
    "        \n",
    "정식 = Character('정식','영웅',20,20,30,15,777,'SWORD',50000,300,'이럽션','마법',3000,'마법사의로브',1,'30')\n"
   ]
  },
  {
   "cell_type": "code",
   "execution_count": 52,
   "metadata": {},
   "outputs": [
    {
     "data": {
      "text/plain": [
       "17"
      ]
     },
     "execution_count": 52,
     "metadata": {},
     "output_type": "execute_result"
    }
   ],
   "source": [
    "# 클래스 객체를 이용해서 입력 받기 \n",
    "# 근데 이건 상속이 아니며, 클래스의 인스턴스가 변수를 상속 받지 않고 '구성' 된다고 한다.\n",
    "\n",
    "class Character:\n",
    "    def __init__(self, body, weapon, skill, equipment):\n",
    "        self.body = body\n",
    "        self.weapon = weapon\n",
    "        self.skill = skill\n",
    "        self.equipment = equipment\n",
    "        # 다른 초기화 코드...\n",
    "\n",
    "\n",
    "정식 = Character(기사, 그레이트소드, 이럽션, 바람의두루마기)\n",
    "\n",
    "정식.body.CON"
   ]
  }
 ],
 "metadata": {
  "kernelspec": {
   "display_name": "Python 3",
   "language": "python",
   "name": "python3"
  },
  "language_info": {
   "codemirror_mode": {
    "name": "ipython",
    "version": 3
   },
   "file_extension": ".py",
   "mimetype": "text/x-python",
   "name": "python",
   "nbconvert_exporter": "python",
   "pygments_lexer": "ipython3",
   "version": "3.10.5"
  },
  "orig_nbformat": 4
 },
 "nbformat": 4,
 "nbformat_minor": 2
}
