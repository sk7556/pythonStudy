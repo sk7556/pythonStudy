{
 "cells": [
  {
   "cell_type": "code",
   "execution_count": 10,
   "metadata": {},
   "outputs": [
    {
     "name": "stdout",
     "output_type": "stream",
     "text": [
      "jUNGsIK\n"
     ]
    }
   ],
   "source": [
    "a = input()\n",
    "\n",
    "l = list(a)\n",
    "result = list(a)\n",
    "\n",
    "for i in range(len(l)):\n",
    "    if l[i].islower() == True :\n",
    "        l[i] = l[i].upper()        \n",
    "    else :\n",
    "        l[i] = l[i].lower()        \n",
    "\n",
    "result = ''.join(str(item) for item in l)\n",
    "\n",
    "print(result)"
   ]
  },
  {
   "cell_type": "code",
   "execution_count": 7,
   "metadata": {},
   "outputs": [
    {
     "data": {
      "text/plain": [
       "'S'"
      ]
     },
     "execution_count": 7,
     "metadata": {},
     "output_type": "execute_result"
    }
   ],
   "source": [
    "ss = 's'\n",
    "\n",
    "ss.upper()"
   ]
  }
 ],
 "metadata": {
  "kernelspec": {
   "display_name": "Python 3",
   "language": "python",
   "name": "python3"
  },
  "language_info": {
   "codemirror_mode": {
    "name": "ipython",
    "version": 3
   },
   "file_extension": ".py",
   "mimetype": "text/x-python",
   "name": "python",
   "nbconvert_exporter": "python",
   "pygments_lexer": "ipython3",
   "version": "3.10.5"
  },
  "orig_nbformat": 4
 },
 "nbformat": 4,
 "nbformat_minor": 2
}
