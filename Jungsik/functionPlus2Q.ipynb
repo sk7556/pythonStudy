{
 "cells": [
  {
   "cell_type": "code",
   "execution_count": 2,
   "metadata": {},
   "outputs": [
    {
     "name": "stdout",
     "output_type": "stream",
     "text": [
      "0\n",
      "1\n",
      "1\n",
      "2\n",
      "3\n",
      "5\n",
      "8\n",
      "13\n",
      "21\n",
      "34\n",
      "55\n"
     ]
    }
   ],
   "source": [
    "# 문제1\n",
    "# 다음과 같이 동작하는 제너레이터 함수 fibonacci(n)를 완성하세요. \n",
    "# 주어진 숫자 n까지의 피보나치 수열을 반환합니다.\n",
    "# 인터넷에서 피보나치 순열 Python 코드를 검색해보셔도 좋습니다.\n",
    "\n",
    "def fibonacci(n):\n",
    "    a, b = 0, 1\n",
    "    yield a\n",
    "    if n > 0:\n",
    "        yield b\n",
    "    for i in range(2, n + 1):\n",
    "        a, b = b, a + b\n",
    "        yield b\n",
    "\n",
    "\n",
    "for val in fibonacci(10):\n",
    "    print(val)\n",
    "\n",
    "\n",
    "# 문제2\n",
    "# 주어진 함수의 실행 시간을 측정하여 출력하는 데코레이터 time_it를 작성하세요. \n",
    "# (힌트: time 모듈의 time() 함수를 사용하세요.)\n",
    "\n",
    "import time\n",
    "\n",
    "def time_it(func):\n",
    "    def wrapper(*args, **kwargs):\n",
    "        start_time = time.time()  \n",
    "        result = func(*args, **kwargs)  \n",
    "        end_time = time.time()  \n",
    "        elapsed_time = end_time - start_time \n",
    "        print(f'{elapsed_time:.7f} ')\n",
    "        return result\n",
    "    return wrapper\n",
    "\n",
    "@time_it\n",
    "def example_function():\n",
    "    for val in fibonacci(10):\n",
    "        print(val)\n",
    "\n",
    "example_function()\n",
    "\n"
   ]
  },
  {
   "cell_type": "code",
   "execution_count": 18,
   "metadata": {},
   "outputs": [
    {
     "data": {
      "text/plain": [
       "[2, 3, 4, 5, 6, 7, 8, 9, 10]"
      ]
     },
     "execution_count": 18,
     "metadata": {},
     "output_type": "execute_result"
    }
   ],
   "source": [
    "# 문제2\n",
    "# 주어진 함수의 실행 시간을 측정하여 출력하는 데코레이터 time_it를 작성하세요. \n",
    "# (힌트: time 모듈의 time() 함수를 사용하세요.)list(range(2,11))"
   ]
  },
  {
   "cell_type": "code",
   "execution_count": 6,
   "metadata": {},
   "outputs": [
    {
     "name": "stdout",
     "output_type": "stream",
     "text": [
      "0\n",
      "1\n",
      "1\n",
      "2\n",
      "3\n",
      "5\n",
      "8\n",
      "13\n",
      "21\n",
      "34\n",
      "55\n",
      "0.000000000000000000000000000000 \n"
     ]
    }
   ],
   "source": [
    "import time\n",
    "\n",
    "def time_it(func):\n",
    "    def wrapper(*args, **kwargs):\n",
    "        start_time = time.time()  \n",
    "        result = func(*args, **kwargs)  \n",
    "        end_time = time.time()  \n",
    "        elapsed_time = end_time - start_time \n",
    "        print(f'{elapsed_time:.7f} ')\n",
    "        return result\n",
    "    return wrapper\n",
    "\n",
    "@time_it\n",
    "def example_function():\n",
    "    for val in fibonacci(10):\n",
    "        print(val)\n",
    "\n",
    "example_function()"
   ]
  }
 ],
 "metadata": {
  "kernelspec": {
   "display_name": "Python 3",
   "language": "python",
   "name": "python3"
  },
  "language_info": {
   "codemirror_mode": {
    "name": "ipython",
    "version": 3
   },
   "file_extension": ".py",
   "mimetype": "text/x-python",
   "name": "python",
   "nbconvert_exporter": "python",
   "pygments_lexer": "ipython3",
   "version": "3.10.5"
  },
  "orig_nbformat": 4
 },
 "nbformat": 4,
 "nbformat_minor": 2
}
