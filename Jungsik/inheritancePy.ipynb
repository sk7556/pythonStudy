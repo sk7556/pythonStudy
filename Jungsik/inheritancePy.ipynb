{
 "cells": [
  {
   "cell_type": "markdown",
   "metadata": {},
   "source": [
    "# 상속\n",
    "\n",
    "* 부모클래스(또는 기본클래스, 슈퍼클래스 ) : 특성이 상속되는 클래스\n",
    "* 자식 클래스(또는 파생 클래스, 서브클래스 ) : 부모 클래스의 특성을 상속받는 클래스\n",
    "\n",
    "자식 클래스는 부모 클래스의 모든 속성과 메서드를 상속 받습니다. 또한 자식 클래스는 부모 클래스에 없는 새로운 속성이나 메서드를 추가하거나,\n",
    "부모 클래스의 메서드를 오버라이드(재정의)하여 기능을 수정할 수 있습니다"
   ]
  },
  {
   "cell_type": "code",
   "execution_count": 1,
   "metadata": {},
   "outputs": [],
   "source": [
    "class A:\n",
    "    def hello(self):\n",
    "        return 'hello'\n",
    "\n",
    "class B(A):\n",
    "    def world(self):\n",
    "        return 'world'"
   ]
  },
  {
   "cell_type": "code",
   "execution_count": 2,
   "metadata": {},
   "outputs": [
    {
     "ename": "SyntaxError",
     "evalue": "incomplete input (2993550159.py, line 18)",
     "output_type": "error",
     "traceback": [
      "\u001b[1;36m  Cell \u001b[1;32mIn[2], line 18\u001b[1;36m\u001b[0m\n\u001b[1;33m    \u001b[0m\n\u001b[1;37m    ^\u001b[0m\n\u001b[1;31mSyntaxError\u001b[0m\u001b[1;31m:\u001b[0m incomplete input\n"
     ]
    }
   ],
   "source": [
    "# 다이아몬드 상속 \n",
    "\n",
    "class A : \n",
    "    def hello(self):\n",
    "        print('hello A')\n",
    "        \n",
    "class B(A):\n",
    "    def hello(self):\n",
    "        print('hello B') \n",
    "        \n",
    "class C(A):\n",
    "    def hello(self):\n",
    "        print('hello C')\n",
    "        \n",
    "class D(B, C):\n",
    "           "
   ]
  },
  {
   "cell_type": "code",
   "execution_count": null,
   "metadata": {},
   "outputs": [],
   "source": []
  }
 ],
 "metadata": {
  "kernelspec": {
   "display_name": "Python 3",
   "language": "python",
   "name": "python3"
  },
  "language_info": {
   "codemirror_mode": {
    "name": "ipython",
    "version": 3
   },
   "file_extension": ".py",
   "mimetype": "text/x-python",
   "name": "python",
   "nbconvert_exporter": "python",
   "pygments_lexer": "ipython3",
   "version": "3.10.5"
  },
  "orig_nbformat": 4
 },
 "nbformat": 4,
 "nbformat_minor": 2
}
