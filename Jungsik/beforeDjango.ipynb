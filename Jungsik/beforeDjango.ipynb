{
 "cells": [
  {
   "cell_type": "markdown",
   "metadata": {},
   "source": [
    "# 정규표현식"
   ]
  },
  {
   "cell_type": "code",
   "execution_count": null,
   "metadata": {},
   "outputs": [],
   "source": [
    "# 1. google에서 정규표현식 \n",
    "# https://regexr.com/5nvc2 여기서 테스트 해볼 수 있음"
   ]
  },
  {
   "cell_type": "markdown",
   "metadata": {},
   "source": [
    "# 일반문자열\n",
    "- 대소문자를 가림\n",
    "- ^hello 는 처음에 나오는 hello\n",
    "- hello$ 는 마지막에 나오는 hello \n",
    "- h.llow 는 h 다음에 어떤 문자든 1개의 문자 ( 영문, 특수문자, 숫자, 한글 등 ) 가 오며, llow가 이어 나와야합니다"
   ]
  },
  {
   "cell_type": "markdown",
   "metadata": {},
   "source": [
    "# 대괄호 ( 택 1 )\n",
    "* h[eao]llow  는 hello, hallo, hollo 중 택 1하게 됨\n",
    "* [a-z]\n",
    "* [a-zA-Z]\n",
    "* [0-9]\n",
    "* [a-zA-Z0-9]\n",
    "* ^[a-z] : 알파벳으로 시작하는 문자열 a~~~~ b~\n",
    "* [^a-z] : a~z 가 아닌 것들 모두\n",
    "* h[a^o]llo : a, ^, O 중 택1"
   ]
  },
  {
   "cell_type": "markdown",
   "metadata": {},
   "source": [
    "* _* : 앞에 있는 문자가 0개 ~ N개\n",
    "* _+ : 앞에 있는 문자가 1개 ~ N개\n",
    "* _? : 앞에 있는 문자가 0개 ~ 1개\n",
    "* \n",
    "* {3} : 3개\n",
    "* {3,} : 3개 이상\n",
    "* {1,3} : 1개 ~ 3개\n",
    "* \n",
    "* _* : 앞에 있는 문자가 0개 ~ N개 ({0,})\n",
    "* _+ : 앞에 있는 문자가 1개 ~ N개({1,})\n",
    "* _? : 앞에 있는 문자가 0개 ~ 1개 ({0,1})\n",
    "* \n",
    "* /[0-9]{3}[-.* ][0-9]{4}[-.* ][0-9]{4}/gm\n",
    "* /[0-9a-zA-Z]{2,3}[-.* ][0-9]{3,4}[-.* ][0-9]{4}/gm\n",
    "* /[0-9a-zA-Z]+@[0-9a-zA-Z]+.[a-zA-Z]+/gm\n"
   ]
  },
  {
   "cell_type": "markdown",
   "metadata": {},
   "source": [
    "* 정규 표현식을 보통 직접 만들지는 않음\n",
    "* 인터넷 검색하면 나옴. email, 한국 전화번호 등 \n",
    "* why? 정규표현식에서 실수가 생겨 서비스에 CS가 들어온다던지\n",
    "* 크리티컬한 문제가 생긴다던지 하는 경우가 많음\n",
    "* 읽을 줄은 알아야합니다. 여러 패턴을 조합하거나 비교는 해봐야하니까."
   ]
  },
  {
   "cell_type": "markdown",
   "metadata": {},
   "source": [
    "* group1, group2\n",
    "* group1 => key\n",
    "* group2 => value\n",
    "* ([a-zA-Z0-9@.-]+), ?([a-zA-Z0-9@\\.\\-]+)"
   ]
  }
 ],
 "metadata": {
  "kernelspec": {
   "display_name": "Python 3",
   "language": "python",
   "name": "python3"
  },
  "language_info": {
   "name": "python",
   "version": "3.10.5"
  },
  "orig_nbformat": 4
 },
 "nbformat": 4,
 "nbformat_minor": 2
}
