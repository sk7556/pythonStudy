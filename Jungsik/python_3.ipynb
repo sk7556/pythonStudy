{
 "cells": [
  {
   "cell_type": "code",
   "execution_count": 1,
   "metadata": {},
   "outputs": [
    {
     "name": "stdout",
     "output_type": "stream",
     "text": [
      "나옹\n"
     ]
    }
   ],
   "source": [
    "class Cat :\n",
    "    def sound(self):\n",
    "        print('나옹')\n",
    "        \n",
    "licat = Cat()\n",
    "licat_sound = licat.sound\n",
    "licat_sound() # licat.sound()"
   ]
  },
  {
   "cell_type": "code",
   "execution_count": 2,
   "metadata": {},
   "outputs": [
    {
     "data": {
      "text/plain": [
       "[10, 20, 30, 40]"
      ]
     },
     "execution_count": 2,
     "metadata": {},
     "output_type": "execute_result"
    }
   ],
   "source": [
    "l = [10,20,30]\n",
    "la = l.append\n",
    "la(40)\n",
    "\n",
    "l"
   ]
  },
  {
   "cell_type": "code",
   "execution_count": 3,
   "metadata": {},
   "outputs": [
    {
     "name": "stdout",
     "output_type": "stream",
     "text": [
      "5\n"
     ]
    }
   ],
   "source": [
    "def add(x, y):\n",
    "    return x + y\n",
    "\n",
    "def subtract(x, y):\n",
    "    return x - y\n",
    "\n",
    "funcs = [add, subtract] # 함수 이름은 변수로 사용할 수 있다\n",
    "# 정확히는 클래스의 인스턴스\n",
    "print(funcs[0](2, 3))  # 출력: 5"
   ]
  },
  {
   "cell_type": "code",
   "execution_count": 6,
   "metadata": {},
   "outputs": [
    {
     "name": "stdout",
     "output_type": "stream",
     "text": [
      "5\n",
      "True\n"
     ]
    }
   ],
   "source": [
    "class calculate:\n",
    "    def add(self,x,y):\n",
    "        return x + y\n",
    "    \n",
    "    def sub(self,x,y):\n",
    "        return x - y\n",
    "    \n",
    "    \n",
    "    def mul(self,x,y):\n",
    "        return x * y\n",
    "    \n",
    "    \n",
    "    def div(self,x,y):\n",
    "        return x / y\n",
    "    \n",
    "    def _and(self,x,y):\n",
    "        return x & y\n",
    "    \n",
    "    def _or(self,x,y):\n",
    "        return x | y\n",
    "    \n",
    "op = calculate()\n",
    "logical_cal = {\n",
    "    'add' : op.add,\n",
    "    'sub' : op.sub,\n",
    "    'mul' : op.mul,\n",
    "    'div' : op.div,\n",
    "    # 딕셔너리 형태로 관리한것임\n",
    "    \n",
    "}\n",
    "\n",
    "arithmetic_op = {\n",
    "    '_and' : op._and,\n",
    "    '_or' : op._or,\n",
    "}\n",
    "\n",
    "print(logical_cal['add'](2,3))\n",
    "print(arithmetic_op['_and'](True,True))\n",
    "\n"
   ]
  },
  {
   "cell_type": "code",
   "execution_count": 7,
   "metadata": {},
   "outputs": [
    {
     "name": "stdout",
     "output_type": "stream",
     "text": [
      "냐옹\n"
     ]
    }
   ],
   "source": [
    "def licat_sound(p):\n",
    "    # 함수의 기능 10줄이 들어간다 가정\n",
    "    x = 10\n",
    "    y = 10\n",
    "    z = 10 \n",
    "    p('냐옹')\n",
    "    \n",
    "licat_sound(print) # licat_sound 안에 built-in function  인 print를 넣었습니다   "
   ]
  },
  {
   "cell_type": "code",
   "execution_count": 15,
   "metadata": {},
   "outputs": [
    {
     "data": {
      "text/plain": [
       "5.0"
      ]
     },
     "execution_count": 15,
     "metadata": {},
     "output_type": "execute_result"
    }
   ],
   "source": [
    "def square(x):\n",
    "    return x * x\n",
    "\n",
    "def 제곱(x, s):\n",
    "    return s(x)\n",
    "\n",
    "def root(x):\n",
    "    return x**0.5\n",
    "\n",
    "def 피타고라스(a,b, square, root):\n",
    "    return root(square(a)+ square(b))\n",
    "\n",
    "result = 피타고라스(3,4,square,root)\n",
    "\n",
    "result\n"
   ]
  },
  {
   "cell_type": "code",
   "execution_count": 17,
   "metadata": {},
   "outputs": [
    {
     "name": "stdout",
     "output_type": "stream",
     "text": [
      "15\n"
     ]
    }
   ],
   "source": [
    "def create_adder(x):\n",
    "    def adder(y):\n",
    "        return x+y\n",
    "    return adder\n",
    "\n",
    "add_5 = create_adder(5)\n",
    "print(add_5(10)) # 출력 15"
   ]
  },
  {
   "cell_type": "code",
   "execution_count": 22,
   "metadata": {},
   "outputs": [
    {
     "name": "stdout",
     "output_type": "stream",
     "text": [
      "100\n"
     ]
    }
   ],
   "source": [
    "\n",
    "def create_exponent(x):\n",
    "    def exponent(y):\n",
    "        return y**x\n",
    "    return exponent\n",
    "\n",
    "exponent_2 = create_exponent(2)\n",
    "exponent_3 = create_exponent(3)\n",
    "\n",
    "print(exponent_2(10))\n"
   ]
  },
  {
   "cell_type": "code",
   "execution_count": 37,
   "metadata": {},
   "outputs": [
    {
     "name": "stdout",
     "output_type": "stream",
     "text": [
      "2129913089664\n"
     ]
    }
   ],
   "source": [
    "def f():\n",
    "    l = [10,20,30]\n",
    "    print(id(l))\n",
    "    return l\n",
    "\n",
    "sample = f()"
   ]
  },
  {
   "cell_type": "code",
   "execution_count": 39,
   "metadata": {},
   "outputs": [
    {
     "data": {
      "text/plain": [
       "2"
      ]
     },
     "execution_count": 39,
     "metadata": {},
     "output_type": "execute_result"
    }
   ],
   "source": [
    "import sys\n",
    "\n",
    "sys.getrefcount(sample)"
   ]
  },
  {
   "cell_type": "markdown",
   "metadata": {},
   "source": [
    "# 일급 함수: 함수를 일급객체(값, 주소)로 취급\n",
    "# 고차 함수: 함수를 아규먼트로 받거나 return 값으로 반환할 수 있는 함수"
   ]
  },
  {
   "cell_type": "code",
   "execution_count": 42,
   "metadata": {},
   "outputs": [
    {
     "data": {
      "text/plain": [
       "300"
      ]
     },
     "execution_count": 42,
     "metadata": {},
     "output_type": "execute_result"
    }
   ],
   "source": [
    "# 고차함수이며, 일반적인 클로저의 형태는 아닙니다.\n",
    "# 보통 클로저는 outer_function에 은닉할 값을 매개변수로 넘겨줍니다.\n",
    "def outer_function():\n",
    "    def inner_function():\n",
    "        return 100 + 100\n",
    "    return inner_function\n",
    "\n",
    "# 클로저인 경우\n",
    "def outer_function(x):\n",
    "    def inner_function(y):\n",
    "        return x + y\n",
    "    return inner_function\n",
    "\n",
    "inner = outer_function(100)\n",
    "'''\n",
    "def inner(y):\n",
    "    return 100 + y\n",
    "inner(200)\n",
    "'''\n",
    "inner(200) # inner 입장에서 100을 변경할 수 있는 방법이 없습니다."
   ]
  },
  {
   "cell_type": "markdown",
   "metadata": {},
   "source": [
    "# 데코레이터"
   ]
  },
  {
   "cell_type": "code",
   "execution_count": 44,
   "metadata": {},
   "outputs": [
    {
     "name": "stdout",
     "output_type": "stream",
     "text": [
      "Before function execution\n",
      "Hello, World!\n",
      "After function execution\n"
     ]
    }
   ],
   "source": [
    "def jungsik(fn):\n",
    "    def wrapped():\n",
    "        print(\"Before function execution\")\n",
    "        fn()\n",
    "        print(\"After function execution\")\n",
    "    return wrapped\n",
    "\n",
    "@jungsik\n",
    "def hello():\n",
    "    print(\"Hello, World!\")\n",
    "\n",
    "hello()"
   ]
  },
  {
   "cell_type": "code",
   "execution_count": 46,
   "metadata": {},
   "outputs": [
    {
     "name": "stdout",
     "output_type": "stream",
     "text": [
      "Before function execution\n",
      "Hello, World!\n"
     ]
    }
   ],
   "source": [
    "def jungsik(fn):\n",
    "    def pop():\n",
    "        print(\"Before function execution\")\n",
    "        fn()        \n",
    "    return pop\n",
    "\n",
    "@jungsik\n",
    "def hello():\n",
    "    print(\"Hello, World!\")\n",
    "\n",
    "hello()"
   ]
  },
  {
   "cell_type": "code",
   "execution_count": 49,
   "metadata": {},
   "outputs": [
    {
     "name": "stdout",
     "output_type": "stream",
     "text": [
      "Before the function call\n",
      "Hello, World!\n",
      "After the function call\n",
      "Before the function call\n",
      "Before the function call\n",
      "Hello, World!\n",
      "After the function call\n",
      "After the function call\n"
     ]
    }
   ],
   "source": [
    "def simple_decorator(function):\n",
    "    def wrapper():\n",
    "        print(\"Before the function call\")\n",
    "        function()\n",
    "        print(\"After the function call\")\n",
    "    return wrapper\n",
    "\n",
    "@simple_decorator\n",
    "def hello():\n",
    "    print(\"Hello, World!\")\n",
    "\n",
    "hello() # 이렇게만 하면 simple_decorator에 hello를 아규먼트로 넣어주고 실행하겠다!\n",
    "\n",
    "# 데코레이터가 없다면 == \n",
    "# simple_decorator(hello)() \n",
    "# simple_decorator(hello) => wrapper\n",
    "# simple_decorator(hello)() => wrapper()"
   ]
  },
  {
   "cell_type": "code",
   "execution_count": 51,
   "metadata": {},
   "outputs": [
    {
     "name": "stdout",
     "output_type": "stream",
     "text": [
      "[1, 2, '3', 4, '5']\n"
     ]
    },
    {
     "data": {
      "text/plain": [
       "3.0"
      ]
     },
     "execution_count": 51,
     "metadata": {},
     "output_type": "execute_result"
    }
   ],
   "source": [
    "# step 3\n",
    "def data_Preprocessing(function):\n",
    "    def wrapper(data):\n",
    "        print(data)\n",
    "        return function(list(map(int, data)))\n",
    "    return wrapper\n",
    "\n",
    "@data_Preprocessing\n",
    "def mean(data):\n",
    "    return sum(data)/len(data)\n",
    "\n",
    "mean([1, 2, '3', 4, '5']) # 출력: 3.0 (정상 작동)"
   ]
  },
  {
   "cell_type": "code",
   "execution_count": 53,
   "metadata": {},
   "outputs": [
    {
     "data": {
      "text/plain": [
       "3.0"
      ]
     },
     "execution_count": 53,
     "metadata": {},
     "output_type": "execute_result"
    }
   ],
   "source": [
    "def mean(data):\n",
    "    data1 = list(map(int, data))\n",
    "    return sum(data1)/len(data1)\n",
    "\n",
    "mean([1, 2, '3', 4, '5'])"
   ]
  },
  {
   "cell_type": "code",
   "execution_count": 59,
   "metadata": {},
   "outputs": [
    {
     "name": "stdout",
     "output_type": "stream",
     "text": [
      "hello b\n",
      "hello\n"
     ]
    }
   ],
   "source": [
    "# 강성웅님 Q&A\n",
    "# b를 실행시키고 싶은데 어떻게 해야 할까요?\n",
    "def outer(function):\n",
    "    def wrapper():\n",
    "        function()()\n",
    "        return 'hello'\n",
    "    return wrapper\n",
    "\n",
    "@outer\n",
    "def a():\n",
    "    def b():\n",
    "        print('hello b')\n",
    "    return b\n",
    "\n",
    "print(a())"
   ]
  },
  {
   "cell_type": "code",
   "execution_count": 60,
   "metadata": {},
   "outputs": [
    {
     "name": "stdout",
     "output_type": "stream",
     "text": [
      "hello\n"
     ]
    }
   ],
   "source": [
    "# 강성웅님 Q&A\n",
    "# b를 실행시키고 싶은데 어떻게 해야 할까요?\n",
    "def outer(function):\n",
    "    def wrapper():\n",
    "        function()\n",
    "        return 'hello'\n",
    "    return wrapper\n",
    "\n",
    "@outer\n",
    "def a():\n",
    "    def b():\n",
    "        print('hello b')\n",
    "    return b\n",
    "\n",
    "print(a())"
   ]
  },
  {
   "cell_type": "code",
   "execution_count": 61,
   "metadata": {},
   "outputs": [
    {
     "name": "stdout",
     "output_type": "stream",
     "text": [
      "hello\n"
     ]
    }
   ],
   "source": [
    "# 강성웅님 Q&A\n",
    "# b를 실행시키고 싶은데 어떻게 해야 할까요?\n",
    "def outer(function):\n",
    "    def wrapper():\n",
    "        return 'hello'\n",
    "    return wrapper\n",
    "\n",
    "@outer\n",
    "def a():\n",
    "    def b():\n",
    "        print('hello b')\n",
    "    return b\n",
    "\n",
    "print(a())"
   ]
  },
  {
   "cell_type": "code",
   "execution_count": 63,
   "metadata": {},
   "outputs": [],
   "source": [
    "def add_exclamation(function):\n",
    "    def wrapper(text):\n",
    "        print(f'add_exclamation 데코레이터 시작')\n",
    "        result = function(text) + \"!\"\n",
    "        print(f'add_exclamation 데코레이터 종료')\n",
    "        return result\n",
    "    return wrapper\n",
    "\n",
    "def add_question_mark(function):\n",
    "    def wrapper(text):\n",
    "        print(f'add_question_mark 데코레이터 시작')\n",
    "        result = function(text) + \"?\"\n",
    "        print(f'add_question_mark 데코레이터 종료')\n",
    "        return result\n",
    "    return wrapper\n",
    "\n",
    "def add_dot(function):\n",
    "    def wrapper(text):\n",
    "        print(f'add_dot 데코레이터 시작')\n",
    "        result = function(text) + \".\"\n",
    "        print(f'add_dot 데코레이터 종료')\n",
    "        return result\n",
    "    return wrapper"
   ]
  },
  {
   "cell_type": "markdown",
   "metadata": {},
   "source": [
    "# 동적 데코레이터"
   ]
  },
  {
   "cell_type": "code",
   "execution_count": 65,
   "metadata": {},
   "outputs": [
    {
     "name": "stdout",
     "output_type": "stream",
     "text": [
      "plus 함수가 1000만큼 증가시키는 데코레이터가 시작됩니다.\n",
      "plus 함수가 호출되었습니다.\n",
      "30\n",
      "plus 함수가 1000만큼 증가시키는 데코레이터가 종료됩니다.\n",
      "result : 1030\n"
     ]
    }
   ],
   "source": [
    "def add(n): # 데코레이터를 감싸는 하나의 함수를 더 만들어서 아규먼트를 받는 방법입니다.\n",
    "    def decorator(function): # 여기서부터의 기능은 같습니다.\n",
    "        def new_function(a, b):\n",
    "            print(f'plus 함수가 {n}만큼 증가시키는 데코레이터가 시작됩니다.')\n",
    "            result = function(a, b)\n",
    "            print(result)\n",
    "            print(f'plus 함수가 {n}만큼 증가시키는 데코레이터가 종료됩니다.')\n",
    "            return result + n\n",
    "        return new_function\n",
    "    return decorator\n",
    "\n",
    "@add(1000)\n",
    "def plus(a, b):\n",
    "    print('plus 함수가 호출되었습니다.')\n",
    "    return a + b\n",
    "\n",
    "result = plus(10, 20)\n",
    "print(f'result : {result}')"
   ]
  },
  {
   "cell_type": "code",
   "execution_count": 66,
   "metadata": {},
   "outputs": [],
   "source": [
    "# plus(10, 20) == add(n)(plus)(10,20)\n",
    "\n",
    "def plus(a, b):\n",
    "    print('plus 함수가 호출되었습니다.')\n",
    "    return a + b\n",
    "\n",
    "def add(n):\n",
    "    def decorator(f):\n",
    "        def wrapper(a, b):\n",
    "            print(f'plus 함수가 {n}만큼 증가시키는 데코레이터가 시작됩니다.')\n",
    "            result = f(a, b)\n",
    "            print(result)\n",
    "            print(f'plus 함수가 {n}만큼 증가시키는 데코레이터가 종료됩니다.')\n",
    "            return result + n\n",
    "        return wrapper\n",
    "    return decorator\n",
    "\n",
    "# add(n)(plus)(10,20), add(1000) == decorator\n",
    "# decorator(plus)(10,20), decorator(plus) == wrapper\n",
    "# wrapper(10, 20)\n",
    "\n",
    "# decorator(plus(10, 20))() (X)\n",
    "# add(1000)(plus)(10, 20)() (X)\n",
    "# add(1000)(plus)(10, 20)"
   ]
  }
 ],
 "metadata": {
  "kernelspec": {
   "display_name": "Python 3",
   "language": "python",
   "name": "python3"
  },
  "language_info": {
   "codemirror_mode": {
    "name": "ipython",
    "version": 3
   },
   "file_extension": ".py",
   "mimetype": "text/x-python",
   "name": "python",
   "nbconvert_exporter": "python",
   "pygments_lexer": "ipython3",
   "version": "3.10.5"
  },
  "orig_nbformat": 4
 },
 "nbformat": 4,
 "nbformat_minor": 2
}
