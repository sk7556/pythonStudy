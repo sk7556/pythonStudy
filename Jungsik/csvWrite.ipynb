{
 "cells": [
  {
   "cell_type": "code",
   "execution_count": 1,
   "metadata": {},
   "outputs": [
    {
     "name": "stdout",
     "output_type": "stream",
     "text": [
      "Subject Indices: [4, 5, 6, 7]\n"
     ]
    }
   ],
   "source": [
    "import csv\n",
    "\n",
    "subject = ['국어', '영어', '수학', '사회']\n",
    "\n",
    "with open('student.csv', 'r', encoding='utf-8') as f:\n",
    "    reader = csv.reader(f)\n",
    "    lines = list(reader)\n",
    "\n",
    "subject_index = [lines[0].index(sub) for sub in subject if sub in lines[0]]\n",
    "\n",
    "# subject_index가 제대로 생성되었는지 확인\n",
    "print(\"Subject Indices:\", subject_index)\n",
    "\n",
    "# 평균을 계산하고 추가\n",
    "lines[0].append('평균')\n",
    "for row in lines[1:]:\n",
    "    if len(row) < max(subject_index) + 1:  # 혹시 모를 인덱스 문제를 방지\n",
    "        print(f\"Skipping row due to length mismatch: {row}\")\n",
    "        continue\n",
    "    avg = sum([int(row[i]) for i in subject_index]) / len(subject_index)\n",
    "    row.append(str(avg))\n",
    "\n",
    "# 수정된 내용을 파일에 다시 쓰기\n",
    "with open('student.csv', 'w', encoding='utf-8', newline='') as wf:\n",
    "    writer = csv.writer(wf)\n",
    "    writer.writerows(lines)\n",
    "\n"
   ]
  }
 ],
 "metadata": {
  "kernelspec": {
   "display_name": "Python 3",
   "language": "python",
   "name": "python3"
  },
  "language_info": {
   "codemirror_mode": {
    "name": "ipython",
    "version": 3
   },
   "file_extension": ".py",
   "mimetype": "text/x-python",
   "name": "python",
   "nbconvert_exporter": "python",
   "pygments_lexer": "ipython3",
   "version": "3.10.5"
  },
  "orig_nbformat": 4
 },
 "nbformat": 4,
 "nbformat_minor": 2
}
