{
 "cells": [
  {
   "cell_type": "code",
   "execution_count": 1,
   "metadata": {},
   "outputs": [],
   "source": [
    "# 파이썬 버전별 문법"
   ]
  },
  {
   "cell_type": "code",
   "execution_count": 3,
   "metadata": {},
   "outputs": [
    {
     "data": {
      "text/plain": [
       "'Hello, 10'"
      ]
     },
     "execution_count": 3,
     "metadata": {},
     "output_type": "execute_result"
    }
   ],
   "source": [
    "#3.6\n",
    "def greet(name:str) -> str:\n",
    "    return f'Hello, {name}'\n",
    "\n",
    "greet(10)"
   ]
  },
  {
   "cell_type": "code",
   "execution_count": 7,
   "metadata": {},
   "outputs": [
    {
     "data": {
      "text/plain": [
       "'\\n    에에에에\\n    \\n    주석주석\\n    \\n    \\n    여러줄 가능 \\n    '"
      ]
     },
     "execution_count": 7,
     "metadata": {},
     "output_type": "execute_result"
    }
   ],
   "source": [
    "#3.6 doc 스트링 사용하기 \n",
    "def greet(name:str) -> str:\n",
    "    '''\n",
    "    에에에에\n",
    "    \n",
    "    주석주석\n",
    "    \n",
    "    \n",
    "    여러줄 가능 \n",
    "    '''\n",
    "    \n",
    "    return f'Hello, {name}'\n",
    "\n",
    "greet(10)\n",
    "greet.__doc__ # 이렇게 쓰면 되는구나\n"
   ]
  },
  {
   "cell_type": "code",
   "execution_count": 8,
   "metadata": {},
   "outputs": [
    {
     "data": {
      "text/plain": [
       "{'key1': 'value1', 'key2': 'value2'}"
      ]
     },
     "execution_count": 8,
     "metadata": {},
     "output_type": "execute_result"
    }
   ],
   "source": [
    "# 3.9\n",
    "x = {\"key1\": \"value1\"}\n",
    "y = {\"key2\": \"value2\"}\n",
    "z = x | y\n",
    "z\n",
    "# 이제서야 딕셔너리 결합이 됩니다\n",
    "\n"
   ]
  },
  {
   "cell_type": "code",
   "execution_count": 10,
   "metadata": {},
   "outputs": [
    {
     "data": {
      "text/plain": [
       "{'key1': 'value1', 'key2': 'value2'}"
      ]
     },
     "execution_count": 10,
     "metadata": {},
     "output_type": "execute_result"
    }
   ],
   "source": [
    "x = {\"key1\": \"value1\"}\n",
    "y = {\"key2\": \"value2\"}\n",
    "x.update({\"key2\" : \"value2\"})\n",
    "x"
   ]
  },
  {
   "cell_type": "code",
   "execution_count": 15,
   "metadata": {},
   "outputs": [
    {
     "name": "stdout",
     "output_type": "stream",
     "text": [
      "good\n"
     ]
    }
   ],
   "source": [
    "# 3.10\n",
    "str_test = \"good\"\n",
    "\n",
    "match str_test:\n",
    "    case \"happy\":\n",
    "        print(\"happy\")\n",
    "        \n",
    "    case \"good\":\n",
    "        print(\"good\")\n",
    "        \n",
    "    case \"hello\":\n",
    "        print(\"hello\") \n",
    "        \n",
    "        \n",
    "        "
   ]
  },
  {
   "cell_type": "markdown",
   "metadata": {},
   "source": [
    "# 파일 입출력"
   ]
  },
  {
   "cell_type": "code",
   "execution_count": 19,
   "metadata": {},
   "outputs": [],
   "source": [
    "# open(파일이름, 파일모드)\n",
    "f = open('python.txt', 'r')\n",
    "# 파일모드 : \n",
    "# r(읽기모드)\n",
    "# w(쓰기모드, 파일이 없으면 생성합니다, 내용이 있어도 w모드면 덮어씁니다.)\n",
    "# a(추가모드)\n",
    "f.close()"
   ]
  },
  {
   "cell_type": "code",
   "execution_count": 25,
   "metadata": {},
   "outputs": [],
   "source": [
    "# 어려운 예제\n",
    "# django의 동작원리와도 관련이 있습니다.\n",
    "import requests\n",
    "from bs4 import BeautifulSoup\n",
    "\n",
    "paullab_url = 'http://paullab.co.kr/bookservice/'\n",
    "response = requests.get(paullab_url)\n",
    "response.encoding = 'utf-8'\n",
    "html = response.text\n",
    "\n",
    "soup = BeautifulSoup(html, 'html.parser')\n",
    "\n",
    "bookservices = soup.select('.col-lg-6 > h2')     # col-lg-6 클래스 안의 h2 태그 탐색\n",
    "contents = ''\n",
    "\n",
    "for no, (book, img) in enumerate(zip(bookservices, soup.select('img')[2:]), 1):\n",
    "    contents += f'''\n",
    "                <section>\n",
    "                <h2>{no}. {book.text}</h2>\n",
    "                <img src='https://paullab.co.kr/bookservice/{img[\"src\"]}'>\n",
    "                </section>\n",
    "                '''\n",
    "\n",
    "# 이미지 양식: https://paullab.co.kr/bookservice/img/notion.jpg\n",
    "f = open('python.html', 'w')\n",
    "s = f'''<html>\n",
    "<head>\n",
    "</head>\n",
    "<body>\n",
    "{contents}\n",
    "</body>\n",
    "</html>\n",
    "'''\n",
    "f.write(s)\n",
    "f.close()"
   ]
  },
  {
   "cell_type": "code",
   "execution_count": 23,
   "metadata": {},
   "outputs": [
    {
     "name": "stdout",
     "output_type": "stream",
     "text": [
      "img/notion.jpg\n",
      "img/cofe.jpg\n",
      "img/HTMLCSS.jpg\n",
      "img/python1.jpg\n",
      "img/python2.jpg\n",
      "img/python3.jpg\n",
      "img/tanos.jpg\n",
      "img/xlsx.jpg\n",
      "img/ruple.jpg\n",
      "img/auto.jpg\n",
      "img/django.jpg\n"
     ]
    }
   ],
   "source": [
    "for i in soup.select('img')[2:]:\n",
    "    print(i['src'])"
   ]
  },
  {
   "cell_type": "code",
   "execution_count": 26,
   "metadata": {},
   "outputs": [],
   "source": [
    "# f-string"
   ]
  },
  {
   "cell_type": "code",
   "execution_count": 32,
   "metadata": {},
   "outputs": [
    {
     "name": "stdout",
     "output_type": "stream",
     "text": [
      "3.14\n",
      "hello\n",
      "{value}\n",
      "{hello}\n",
      "{{value}}\n"
     ]
    }
   ],
   "source": [
    "# 포멧팅 지정자는 {변수이름:포멧팅_양식} :뒤에써야한다\n",
    "num = 3.141592\n",
    "print(f\"{num:.2f}\")\n",
    "\n",
    "value = 'hello'\n",
    "print(f'{value}')\n",
    "print(f'{{value}}')\n",
    "print(f'{{{value}}}')\n",
    "print(f'{{{{value}}}}')\n"
   ]
  },
  {
   "cell_type": "code",
   "execution_count": 33,
   "metadata": {},
   "outputs": [
    {
     "name": "stdout",
     "output_type": "stream",
     "text": [
      "나의 이름은 한사람입니다\n",
      "나의 이름은 한사람입니다. 나이는 33세이고 성별은 남성입니다.\n",
      "나이는 33세이고 성별은 남성입니다. 나의 이름은 한사람입니다. \n",
      "나이는 33세이고 성별은 남성입니다. 나의 이름은 한사람입니다.\n",
      "만세삼창 :  만세!!! 만세!!! 만세!!! \n",
      "삼삼칠 박수 :  짝짝짝!!! 짝짝짝!!! 짝짝짝짝짝짝짝!!! \n",
      "----------------------------------------\n",
      "나의 이름은 3.14입니다\n",
      "나의 이름은             3.141592입니다\n"
     ]
    }
   ],
   "source": [
    "# 파이썬(Python) 3 포맷팅 방식\n",
    "print('나의 이름은 {}입니다'.format('한사람'))\n",
    "print('나의 이름은 {0}입니다. 나이는 {1}세이고 성별은 {2}입니다.'.format('한사람',33,'남성'))\n",
    "print('나이는 {1}세이고 성별은 {2}입니다. 나의 이름은 {0}입니다. '.format('한사람',33,'남성'))\n",
    "print('나이는 {age}세이고 성별은 {gender}입니다. 나의 이름은 {name}입니다.'.format(name='한사람',age=33,gender='남성'))\n",
    "print('만세삼창 :  {0}!!! {0}!!! {0}!!! '.format('만세'))\n",
    "print('삼삼칠 박수 :  {0}!!! {0}!!! {1}!!! '.format('짝'*3,'짝'*7))\n",
    "print('-' * 40)\n",
    "\n",
    "print('나의 이름은 {0:.2f}입니다'.format(3.141592))\n",
    "print('나의 이름은 {0:>20}입니다'.format(3.141592))"
   ]
  },
  {
   "cell_type": "code",
   "execution_count": 34,
   "metadata": {},
   "outputs": [
    {
     "name": "stdout",
     "output_type": "stream",
     "text": [
      "볼펜 2개의 길이는 10.686cm 입니다.\n",
      "볼펜 2개의 길이는 10.7cm 입니다.\n"
     ]
    }
   ],
   "source": [
    "# 파이썬(Python) 3.6 f-string 방식\n",
    "something = '볼펜'\n",
    "EA = 2\n",
    "one_length = 5.343\n",
    "scale = 'cm'\n",
    "\n",
    "print(f'{something} {EA}개의 길이는 {one_length*EA}{scale} 입니다.')\n",
    "print(f'{something} {EA}개의 길이는 {one_length*EA:.1f}{scale} 입니다.')"
   ]
  },
  {
   "cell_type": "code",
   "execution_count": 35,
   "metadata": {},
   "outputs": [
    {
     "name": "stdout",
     "output_type": "stream",
     "text": [
      "볼펜 2개의 길이는 10.686cm 입니다.\n",
      "볼펜 2개의 길이는 10.7cm 입니다.\n"
     ]
    }
   ],
   "source": [
    "# 파이썬(Python) 3.6 f-string 방식\n",
    "something = '볼펜'\n",
    "EA = 2\n",
    "one_length = 5.343\n",
    "scale = 'cm'\n",
    "\n",
    "print(f'{something} {EA}개의 길이는 {one_length*EA}{scale} 입니다.')\n",
    "print(f'{something} {EA}개의 길이는 {one_length*EA:.1f}{scale} 입니다.')"
   ]
  },
  {
   "cell_type": "code",
   "execution_count": 54,
   "metadata": {},
   "outputs": [
    {
     "data": {
      "text/plain": [
       "[0, 3, 6, 9, 0, 5]"
      ]
     },
     "execution_count": 54,
     "metadata": {},
     "output_type": "execute_result"
    }
   ],
   "source": [
    "l = list(range(0,10,3)) + list(range(0,10,5))\n",
    "\n",
    "sum(l)\n",
    "\n",
    "l"
   ]
  },
  {
   "cell_type": "code",
   "execution_count": 61,
   "metadata": {},
   "outputs": [
    {
     "name": "stdout",
     "output_type": "stream",
     "text": [
      "\n",
      "\n",
      "w+모드입니다!\n"
     ]
    }
   ],
   "source": [
    "f = open('python.txt', 'w+') # 읽기 쓰기(기존에 있던 내용은 덮어쓰기)\n",
    "f.seek(0) # 커서를 앞으로 보냈음에도 기존에 텍스트를 읽지 못합니다.\n",
    "print(f.read())\n",
    "f.write('\\nw+모드입니다!') # 그냥 덮어 써버림\n",
    "f.seek(0) # 쓴 내용을 읽을 수는 있음!\n",
    "print(f.read())\n",
    "f.close()\n",
    "# 차이: \n",
    "# r+ 모드는 파일을 열 때 기존의 내용을 보존\n",
    "# w+ 모드는 파일을 열 때 기존의 내용을 삭제"
   ]
  },
  {
   "cell_type": "code",
   "execution_count": 62,
   "metadata": {},
   "outputs": [
    {
     "name": "stdout",
     "output_type": "stream",
     "text": [
      "\n",
      "w+모드입니다!\n",
      "\n",
      "w+모드입니다!hello world5\n",
      "hello world5\n",
      "\n"
     ]
    }
   ],
   "source": [
    "f = open('python.txt', 'a+') # 읽기, 없으면 파일추가\n",
    "f.seek(0)\n",
    "print(f.read())\n",
    "f.write('hello world5\\nhello world5\\n') # 그냥 덮어 써버림\n",
    "f.seek(0)\n",
    "print(f.read())\n",
    "f.close()\n",
    "# r+모드와 차이: 파일 포인터가 r+는 파일의 시작 부분, a+는 끝 부분"
   ]
  },
  {
   "cell_type": "code",
   "execution_count": null,
   "metadata": {},
   "outputs": [],
   "source": []
  }
 ],
 "metadata": {
  "kernelspec": {
   "display_name": "Python 3",
   "language": "python",
   "name": "python3"
  },
  "language_info": {
   "codemirror_mode": {
    "name": "ipython",
    "version": 3
   },
   "file_extension": ".py",
   "mimetype": "text/x-python",
   "name": "python",
   "nbconvert_exporter": "python",
   "pygments_lexer": "ipython3",
   "version": "3.10.5"
  },
  "orig_nbformat": 4
 },
 "nbformat": 4,
 "nbformat_minor": 2
}
