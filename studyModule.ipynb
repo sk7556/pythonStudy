{
 "cells": [
  {
   "cell_type": "markdown",
   "metadata": {},
   "source": [
    "# 모듈\n",
    "\n",
    "* moduleTest.py 파일 작성 후 아래와 같이 입력해주세요\n",
    "\n",
    "name = 'Jungsik'\n",
    "age = 10\n",
    "def hello():\n",
    "return 'hello world'"
   ]
  },
  {
   "cell_type": "code",
   "execution_count": 3,
   "metadata": {},
   "outputs": [
    {
     "name": "stdout",
     "output_type": "stream",
     "text": [
      "Jungsik\n"
     ]
    },
    {
     "data": {
      "text/plain": [
       "'Hello World'"
      ]
     },
     "execution_count": 3,
     "metadata": {},
     "output_type": "execute_result"
    }
   ],
   "source": [
    "import moduleTest\n",
    "\n",
    "print(moduleTest.name)\n",
    "moduleTest.hello()"
   ]
  },
  {
   "cell_type": "code",
   "execution_count": 4,
   "metadata": {},
   "outputs": [
    {
     "name": "stdout",
     "output_type": "stream",
     "text": [
      "Jungsik\n"
     ]
    }
   ],
   "source": [
    "from moduleTest import name, age\n",
    "\n",
    "print(name)"
   ]
  },
  {
   "cell_type": "code",
   "execution_count": null,
   "metadata": {},
   "outputs": [],
   "source": []
  },
  {
   "cell_type": "code",
   "execution_count": 23,
   "metadata": {},
   "outputs": [
    {
     "name": "stderr",
     "output_type": "stream",
     "text": [
      "���� ���͸� �Ǵ� ���� Jungsik��(��) �̹� �ֽ��ϴ�.\n",
      "���� ���� ���� �� ���� �߻�: Jungsik.\n",
      "���� ���͸� �Ǵ� ���� #��(��) �̹� �ֽ��ϴ�.\n",
      "���� ���� ���� �� ���� �߻�: #.\n",
      "���� ���͸� �Ǵ� ���� �̰���(��) �̹� �ֽ��ϴ�.\n",
      "���� ���� ���� �� ���� �߻�: �̰�.\n",
      "���� ���͸� �Ǵ� ���� �����ϸ���(��) �̹� �ֽ��ϴ�.\n",
      "���� ���� ���� �� ���� �߻�: �����ϸ�.\n",
      "���� ���͸� �Ǵ� ���� ������(��) �̹� �ֽ��ϴ�.\n",
      "���� ���� ���� �� ���� �߻�: ����.\n",
      "���� ���͸� �Ǵ� ���� ���������(��) �̹� �ֽ��ϴ�.\n",
      "���� ���� ���� �� ���� �߻�: �������.\n"
     ]
    }
   ],
   "source": [
    "!mkdir Jungsik # 이거 실행하면 폴더 만들어짐"
   ]
  },
  {
   "cell_type": "code",
   "execution_count": 10,
   "metadata": {},
   "outputs": [
    {
     "name": "stdout",
     "output_type": "stream",
     "text": [
      "JungJungsik\n",
      "<module 'com.src.lib.paper' from 'c:\\\\Users\\\\정식\\\\Desktop\\\\개발\\\\pythonStudy\\\\com\\\\src\\\\lib\\\\paper.py'>\n"
     ]
    }
   ],
   "source": [
    "import com.src.lib.paper as paper\n",
    "\n",
    "print(paper.name)\n",
    "print(paper)\n"
   ]
  },
  {
   "cell_type": "markdown",
   "metadata": {},
   "source": [
    "# 연습문제"
   ]
  },
  {
   "cell_type": "code",
   "execution_count": 26,
   "metadata": {},
   "outputs": [
    {
     "name": "stdout",
     "output_type": "stream",
     "text": [
      "13\n",
      "7\n",
      "30\n",
      "3.3333333333333335\n"
     ]
    }
   ],
   "source": [
    "# 아래와 같은 기능을 하는 모듈 또는 패키지를 만들어주세요 \n",
    "# add(a,b), sub(a,b), mul(a,b), div(a,b)\n",
    "\n",
    "import add as add\n",
    "import sub as sub\n",
    "import mul as mul\n",
    "import div as div\n",
    "\n",
    "a = 10\n",
    "b = 3\n",
    "\n",
    "print(add.add(a,b))\n",
    "print(sub.sub(a,b))\n",
    "print(mul.mul(a,b))\n",
    "print(div.div(a,b))"
   ]
  },
  {
   "cell_type": "code",
   "execution_count": null,
   "metadata": {},
   "outputs": [],
   "source": [
    "import sys\n",
    "sys.path.append('Jungsik/jungsik.py')"
   ]
  },
  {
   "cell_type": "code",
   "execution_count": 27,
   "metadata": {},
   "outputs": [
    {
     "ename": "ModuleNotFoundError",
     "evalue": "No module named 'jungsik'",
     "output_type": "error",
     "traceback": [
      "\u001b[1;31m---------------------------------------------------------------------------\u001b[0m",
      "\u001b[1;31mModuleNotFoundError\u001b[0m                       Traceback (most recent call last)",
      "\u001b[1;32mc:\\Users\\정식\\Desktop\\개발\\pythonStudy\\studyModule.ipynb 셀 9\u001b[0m line \u001b[0;36m3\n\u001b[0;32m      <a href='vscode-notebook-cell:/c%3A/Users/%EC%A0%95%EC%8B%9D/Desktop/%EA%B0%9C%EB%B0%9C/pythonStudy/studyModule.ipynb#X13sZmlsZQ%3D%3D?line=0'>1</a>\u001b[0m \u001b[39m# 중요실습 \u001b[39;00m\n\u001b[1;32m----> <a href='vscode-notebook-cell:/c%3A/Users/%EC%A0%95%EC%8B%9D/Desktop/%EA%B0%9C%EB%B0%9C/pythonStudy/studyModule.ipynb#X13sZmlsZQ%3D%3D?line=2'>3</a>\u001b[0m \u001b[39mimport\u001b[39;00m \u001b[39mjungsik\u001b[39;00m\n\u001b[0;32m      <a href='vscode-notebook-cell:/c%3A/Users/%EC%A0%95%EC%8B%9D/Desktop/%EA%B0%9C%EB%B0%9C/pythonStudy/studyModule.ipynb#X13sZmlsZQ%3D%3D?line=4'>5</a>\u001b[0m jungsik\u001b[39m.\u001b[39mname\n",
      "\u001b[1;31mModuleNotFoundError\u001b[0m: No module named 'jungsik'"
     ]
    }
   ],
   "source": [
    "# 중요실습 \n",
    "\n",
    "import jungsik\n",
    "\n",
    "jungsik.name"
   ]
  }
 ],
 "metadata": {
  "kernelspec": {
   "display_name": "Python 3",
   "language": "python",
   "name": "python3"
  },
  "language_info": {
   "codemirror_mode": {
    "name": "ipython",
    "version": 3
   },
   "file_extension": ".py",
   "mimetype": "text/x-python",
   "name": "python",
   "nbconvert_exporter": "python",
   "pygments_lexer": "ipython3",
   "version": "3.10.5"
  },
  "orig_nbformat": 4
 },
 "nbformat": 4,
 "nbformat_minor": 2
}
