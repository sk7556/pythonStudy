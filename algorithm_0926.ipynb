{
 "cells": [
  {
   "cell_type": "code",
   "execution_count": 9,
   "metadata": {},
   "outputs": [
    {
     "data": {
      "text/plain": [
       "4"
      ]
     },
     "execution_count": 9,
     "metadata": {},
     "output_type": "execute_result"
    }
   ],
   "source": [
    "a = [1,2,3,4]\n",
    "a.insert(0,5)\n",
    "a\n",
    "a.pop()\n",
    "# 앞에 넣고 뒤에서 빼고 "
   ]
  },
  {
   "cell_type": "code",
   "execution_count": null,
   "metadata": {},
   "outputs": [],
   "source": [
    "# 큐 ( Queue)\n",
    "# 한쪽에서 넣고 다른쪽에서 뺌 \n",
    "# [1,2,3,4,5]가 순서대로 데이터에 삽입된다. 출력 순서가 큐인것은 ? \n",
    "# 1. [1,2,3,4,5] ( 유일한 답 ) \n",
    "\n",
    "# 스택은 LIFO 후입선출 ( = 선입 후출 ) \n",
    "# 큐는 후입후출"
   ]
  },
  {
   "cell_type": "code",
   "execution_count": null,
   "metadata": {},
   "outputs": [],
   "source": [
    "q = [1,2,3,4,5]\n",
    "\n",
    "q.append(6)\n",
    "q.pop(0) # <-- 여기부터 열어야 함 "
   ]
  },
  {
   "cell_type": "code",
   "execution_count": 6,
   "metadata": {},
   "outputs": [
    {
     "data": {
      "text/plain": [
       "37"
      ]
     },
     "execution_count": 6,
     "metadata": {},
     "output_type": "execute_result"
    }
   ],
   "source": [
    "# linked list 구현 \n",
    "\n",
    "linked_list = {\n",
    "    'head' : {\n",
    "        'data' : 12,\n",
    "        'next' : {\n",
    "            'data' : 99,\n",
    "            'next' : {\n",
    "                'data' : 37,\n",
    "                'next' : None\n",
    "            }\n",
    "        }\n",
    "    }\n",
    "}\n",
    "\n",
    "linked_list['head']\n",
    "linked_list['head']['data']\n",
    "linked_list['head']['next']\n",
    "linked_list['head']['next']['next']['data']\n",
    "\n",
    "\n"
   ]
  },
  {
   "cell_type": "code",
   "execution_count": null,
   "metadata": {},
   "outputs": [],
   "source": [
    "# 요구사항 분석\n",
    "# field 는 2가지를 가지고 있습니다\n",
    "# 1. data\n",
    "# 2. next\n",
    "\n",
    "# 어떤 자료구조를 사용할까요  ?  dict 를 사용한 이유는 필드 이름으로 값을 호출 할 수 있기 떄문에 dict를 선택한 것 뿐\n",
    "# 어떤것으로 구현해도 됨 \n",
    "\n",
    "# l = [[data,next], [data,next], [data,next], [data,next]] 로 해도 됨\n",
    "\n",
    "# 앞에서 어떤 것으로 구현했던 우리가 최"
   ]
  },
  {
   "cell_type": "code",
   "execution_count": 10,
   "metadata": {},
   "outputs": [
    {
     "data": {
      "text/plain": [
       "35"
      ]
     },
     "execution_count": 10,
     "metadata": {},
     "output_type": "execute_result"
    }
   ],
   "source": [
    "# Quiz\n",
    "# head -> [90,next] -> [2,next] -> [77, next] -> [35,next] -> [21,next] -> None\n",
    "# 35를 출력해주세요 \n",
    "\n",
    "l = [[90,next], [2, next], [77, next], [35, next], [21, next], None]\n",
    "\n",
    "linked_list = {\n",
    "    'head' : {\n",
    "        'data' : 90,\n",
    "        'next' : {\n",
    "            'data' : 2,\n",
    "            'next' : {\n",
    "                'data' : 77,\n",
    "                'next' : {\n",
    "                    'data' : 35,\n",
    "                    'next' : {\n",
    "                        'data' : 21,\n",
    "                        'next' : None\n",
    "                        }\n",
    "                    }\n",
    "                }\n",
    "            }\n",
    "        }\n",
    "    }\n",
    "\n",
    "linked_list['head']['next']['next']['next']['data']\n"
   ]
  },
  {
   "cell_type": "code",
   "execution_count": 14,
   "metadata": {},
   "outputs": [
    {
     "data": {
      "text/plain": [
       "35"
      ]
     },
     "execution_count": 14,
     "metadata": {},
     "output_type": "execute_result"
    }
   ],
   "source": [
    "lisked_list = {}\n",
    "\n",
    "node1 = { \n",
    "    'data' : 90, 'next' : None\n",
    "}\n",
    "node2 = { \n",
    "    'data' : 2, 'next' : None\n",
    "}\n",
    "node3 = { \n",
    "    'data' : 77, 'next' : None\n",
    "}\n",
    "node4 = { \n",
    "    'data' : 35, 'next' : None\n",
    "}\n",
    "node5 = { \n",
    "    'data' : 21, 'next' : None\n",
    "}\n",
    "\n",
    "node1['next'] = node2\n",
    "node2['next'] = node3\n",
    "node3['next'] = node4\n",
    "node4['next'] = node5\n",
    "\n",
    "lisked_list['head'] = node1\n",
    "\n",
    "lisked_list['head']['next']['next']['next']['data']\n",
    "\n",
    "\n",
    "\n",
    "\n",
    "\n"
   ]
  },
  {
   "cell_type": "code",
   "execution_count": 17,
   "metadata": {},
   "outputs": [
    {
     "name": "stdout",
     "output_type": "stream",
     "text": [
      "21\n"
     ]
    }
   ],
   "source": [
    "# 이제 링크드리스트를 class 로 만들어서 처리 효율성을 더 높여봅시다 \n",
    "# ★★★★★★★★★★★★★★★★★★\n",
    "class Node : \n",
    "    def __init__(self, data):\n",
    "        self.data = data\n",
    "        self.next = None\n",
    "     \n",
    "head = Node('head')   \n",
    "node1 = Node(90)\n",
    "node2 = Node(2)\n",
    "node3 = Node(77)\n",
    "node4 = Node(35)\n",
    "node5 = Node(21)\n",
    "\n",
    "head.next = node1\n",
    "node1.next = node2\n",
    "node2.next = node3\n",
    "node3.next = node4\n",
    "node4.next = node5\n",
    "\n",
    "head.next.next.next.next.data\n",
    "\n",
    "current = head.next\n",
    "\n",
    "for _ in range(4): # 원하는 만큼 다음 값을 호출합니다\n",
    "    current = current.next\n",
    "    \n",
    "print(current.data)"
   ]
  },
  {
   "cell_type": "code",
   "execution_count": 29,
   "metadata": {},
   "outputs": [
    {
     "name": "stdout",
     "output_type": "stream",
     "text": [
      "10\n",
      "20\n",
      "30\n",
      "init\n",
      "30\n",
      "<10, 20, 30>\n"
     ]
    },
    {
     "data": {
      "text/plain": [
       "30"
      ]
     },
     "execution_count": 29,
     "metadata": {},
     "output_type": "execute_result"
    }
   ],
   "source": [
    "# 메서드 추가해볼게요!\n",
    "# pop, find\n",
    "# ★★★★★★★★★★★★★★★★★★★★★★★★★★★★★★★★★★★★★★★★★★★★★★★★★★★★★★★★★★★★★★★★★★★★★★★★\n",
    "\n",
    "class Node:\n",
    "    def __init__(self, data):\n",
    "        self.data = data\n",
    "        self.next = None\n",
    "\n",
    "class LinkedList: # list, tuple, dict처럼 하나에 자료형을 만드는 것입니다!\n",
    "    def __init__(self):\n",
    "        init = Node('init')\n",
    "        self.head = init\n",
    "        self.tail = init\n",
    "        self.count = 0\n",
    "\n",
    "    def __len__(self):\n",
    "        return self.count\n",
    "\n",
    "    def __getitem__(self, index):\n",
    "        current = self.head.next\n",
    "        for _ in range(index):\n",
    "            current = current.next\n",
    "        return current.data\n",
    "\n",
    "    def __str__(self):\n",
    "        current = self.head.next\n",
    "        result = ''\n",
    "        for _ in range(self.count):\n",
    "            result += f'{str(current.data)}, '\n",
    "            current = current.next\n",
    "        return f'<{result[:-2]}>'\n",
    "\n",
    "    def __repr__(self):\n",
    "        current = self.head.next\n",
    "        result = ''\n",
    "        for _ in range(self.count):\n",
    "            result += f'{str(current.data)}, '\n",
    "            current = current.next\n",
    "        return f'<{result[:-2]}>'\n",
    "\n",
    "    def append(self, data):\n",
    "        new_node = Node(data)\n",
    "        self.count += 1\n",
    "        self.tail.next = new_node # 처음에는 Node('init').next\n",
    "        self.tail = new_node\n",
    "\n",
    "    def pop(self):\n",
    "        if self.count == 0:\n",
    "            raise IndexError('pop from empty list')\n",
    "        last_node_data = self.tail.data\n",
    "        current = self.head.next\n",
    "        for _ in range(self.count):\n",
    "            if current.next is self.tail:\n",
    "                self.tail = current\n",
    "                break\n",
    "            current = current.next\n",
    "        self.count -= 1\n",
    "        return last_node_data\n",
    "\n",
    "    def find(self, data):\n",
    "        if self.count == 0:\n",
    "            return -1\n",
    "        current = self.head.next\n",
    "        for i in range(self.count):\n",
    "            if current.data == data:\n",
    "                return i\n",
    "            current = current.next\n",
    "        return -1\n",
    "\n",
    "l = LinkedList()\n",
    "l.append(10)\n",
    "l.append(20)\n",
    "l.append(30)\n",
    "l.append(40)\n",
    "\n",
    "# len(l)\n",
    "# print(l) # 출력: <10, 20, 30, 40>\n",
    "# l[2]\n",
    "\n",
    "# print(l.pop()) # 출력: 40\n",
    "# print(l) # 출력: <10, 20, 30>\n",
    "\n",
    "# print(l.pop()) # 출력: 30\n",
    "# print(l) # 출력: <10, 20>\n",
    "\n",
    "# print(l.pop()) # 출력: 20\n",
    "# print(l) # 출력: <10>\n",
    "# len(l)\n",
    "\n",
    "# # error 확인\n",
    "# print(l.pop())\n",
    "# print(l)\n",
    "\n",
    "# print(l.pop())\n",
    "# print(l)\n",
    "\n",
    "l.find(20)"
   ]
  },
  {
   "cell_type": "code",
   "execution_count": 30,
   "metadata": {},
   "outputs": [
    {
     "data": {
      "text/plain": [
       "-1"
      ]
     },
     "execution_count": 30,
     "metadata": {},
     "output_type": "execute_result"
    }
   ],
   "source": [
    "# https://school.programmers.co.kr/learn/courses/30/lessons/120807\n",
    "# 정수 num1과 num2가 매개변수로 주어집니다. \n",
    "# 두 수가 같으면 1 다르면 -1을 retrun하도록 solution 함수를 완성해주세요.\n",
    "\n",
    "solution = lambda num1, num2: 1 if num1 == num2 else -1\n",
    "solution(10, 20)"
   ]
  },
  {
   "cell_type": "code",
   "execution_count": 38,
   "metadata": {},
   "outputs": [
    {
     "name": "stdout",
     "output_type": "stream",
     "text": [
      "{'d': 1, 'c': 3, 'a': 1, 'f': 1, 'b': 1, 'e': 2}\n",
      "[('c', 3), ('e', 2), ('d', 1), ('a', 1), ('f', 1), ('b', 1)]\n"
     ]
    }
   ],
   "source": [
    "# 문자열이 s 로 주어졌을 때 가장 많이 나온 문자의 수와 \n",
    "# 두 번째로 많이 나온 문자의 수 차는 얼마인가 ? \n",
    "\n",
    "s = 'abcccdeef'\n",
    "# ccc => 3번\n",
    "# ee => 2번\n",
    "# 3-2 = 1 ( 기대값 ) \n",
    "\n",
    "result = {}\n",
    "for i in set(s):\n",
    "    result[i] = s.count(i)\n",
    "\n",
    "print(result)\n",
    "\n",
    "# set은 정렬이 안되기 때문에 items를 해줘서 정렬할 수 있도록 합니다\n",
    "print(sorted(result.items(), key = lambda x:x[1], reverse=True))\n"
   ]
  },
  {
   "cell_type": "code",
   "execution_count": 44,
   "metadata": {},
   "outputs": [
    {
     "data": {
      "text/plain": [
       "[('c', 3), ('e', 2), ('a', 1), ('b', 1), ('d', 1), ('f', 1)]"
      ]
     },
     "execution_count": 44,
     "metadata": {},
     "output_type": "execute_result"
    }
   ],
   "source": [
    "import collections\n",
    "\n",
    "s = collections.Counter('abcccdeef')\n",
    "s.most_common()\n",
    "\n"
   ]
  },
  {
   "cell_type": "code",
   "execution_count": 45,
   "metadata": {},
   "outputs": [
    {
     "data": {
      "text/plain": [
       "[10, 11, 12, 19, 20, 30, 40]"
      ]
     },
     "execution_count": 45,
     "metadata": {},
     "output_type": "execute_result"
    }
   ],
   "source": [
    "# 문제링크 : https://school.programmers.co.kr/learn/courses/30/lessons/120585\n",
    "# 머쓱이는 학교에서 키 순으로 줄을 설 때 몇 번째로 서야 하는지 궁금해졌습니다\n",
    "# 머쓱이네 반 친구들의 키가 담긴 정수 배열 array와 머쓱이의 키 height 가 매개변수로 주어질 때,\n",
    "# 머쓱이보다 키 큰 사람 수를 return 하도록 solution 함수를 완성해보세요 \n",
    "\n",
    "sorted([10,20,30,40,11,12,19])"
   ]
  },
  {
   "cell_type": "code",
   "execution_count": 47,
   "metadata": {},
   "outputs": [
    {
     "name": "stdout",
     "output_type": "stream",
     "text": [
      "3\n"
     ]
    }
   ],
   "source": [
    "x = 15\n",
    "for num, value in enumerate(sorted([10,20,30,40,11,12,19])):\n",
    "    if value > 15:\n",
    "        print(num)\n",
    "        break\n"
   ]
  },
  {
   "cell_type": "code",
   "execution_count": 49,
   "metadata": {},
   "outputs": [
    {
     "data": {
      "text/plain": [
       "<enumerate at 0x195aee4b340>"
      ]
     },
     "execution_count": 49,
     "metadata": {},
     "output_type": "execute_result"
    }
   ],
   "source": [
    "sorted([10,20,30,40,11,12,19])\n",
    "\n",
    "enumerate(sorted([10,20,30,40,11,12,19]))\n",
    "# "
   ]
  },
  {
   "cell_type": "code",
   "execution_count": null,
   "metadata": {},
   "outputs": [],
   "source": [
    "x = 15\n",
    "len(list(filter(lambda y: y < x,[10, 20, 30, 40, 11, 12, 19])))"
   ]
  },
  {
   "cell_type": "code",
   "execution_count": null,
   "metadata": {},
   "outputs": [],
   "source": [
    "# 오류나는 코드\n",
    "x = 15\n",
    "len(filter(lambda y: y < x,[10, 20, 30, 40, 11, 12, 19]))"
   ]
  },
  {
   "cell_type": "code",
   "execution_count": 53,
   "metadata": {},
   "outputs": [
    {
     "data": {
      "text/plain": [
       "16"
      ]
     },
     "execution_count": 53,
     "metadata": {},
     "output_type": "execute_result"
    }
   ],
   "source": [
    "# https://school.programmers.co.kr/learn/courses/30/lessons/120906\n",
    "# 930211 자릿수 합 9 + 3 + 0 + 2+ 1 + 1\n",
    "n = 930211\n",
    "result = 0\n",
    "\n",
    "list(str(n))\n",
    "\n",
    "sum(map(int,str(n)))\n",
    "    \n",
    "    \n"
   ]
  },
  {
   "cell_type": "code",
   "execution_count": null,
   "metadata": {},
   "outputs": [],
   "source": [
    "# https://school.programmers.co.kr/learn/courses/30/lessons/120844\n",
    "\n",
    "l = [1, 2, 3, 4, 5, 6]\n",
    "[l[-1]] + l[:-1]"
   ]
  },
  {
   "cell_type": "code",
   "execution_count": null,
   "metadata": {},
   "outputs": [],
   "source": [
    "# https://school.programmers.co.kr/learn/courses/30/lessons/120844\n",
    "\n",
    "l = [1, 2, 3, 4, 5, 6]\n",
    "[l[-1]] + l[:-1]"
   ]
  },
  {
   "cell_type": "code",
   "execution_count": null,
   "metadata": {},
   "outputs": [],
   "source": [
    "l = [1, 2, 3, 4, 5, 6]\n",
    "l.insert(0, l.pop())\n",
    "l"
   ]
  },
  {
   "cell_type": "code",
   "execution_count": 54,
   "metadata": {},
   "outputs": [
    {
     "data": {
      "text/plain": [
       "deque([5, 6, 1, 2, 3, 4])"
      ]
     },
     "execution_count": 54,
     "metadata": {},
     "output_type": "execute_result"
    }
   ],
   "source": [
    "import collections\n",
    "\n",
    "d = collections.deque([1, 2, 3, 4, 5, 6])\n",
    "\n",
    "# d.append\n",
    "# d.appendleft\n",
    "# d.extend\n",
    "# d.extendleft\n",
    "# d.pop\n",
    "# d.popleft\n",
    "\n",
    "# d.rotate(1)\n",
    "# d\n",
    "d.rotate(2)\n",
    "d"
   ]
  },
  {
   "cell_type": "code",
   "execution_count": 55,
   "metadata": {},
   "outputs": [
    {
     "data": {
      "text/plain": [
       "deque([100, 1, 2, 3, 4, 5], maxlen=6)"
      ]
     },
     "execution_count": 55,
     "metadata": {},
     "output_type": "execute_result"
    }
   ],
   "source": [
    "import collections\n",
    "\n",
    "d = collections.deque([1, 2, 3, 4, 5, 6], maxlen=6)\n",
    "# d.append(10)\n",
    "# d\n",
    "d.appendleft(100)\n",
    "d"
   ]
  },
  {
   "cell_type": "code",
   "execution_count": 82,
   "metadata": {},
   "outputs": [
    {
     "data": {
      "text/plain": [
       "['1234', '55']"
      ]
     },
     "execution_count": 82,
     "metadata": {},
     "output_type": "execute_result"
    }
   ],
   "source": [
    "a = '1234jungsik55'\n",
    "\n",
    "import re\n",
    "def solution(my_string):\n",
    "    answer = re.findall(r\"[\\d]+\", my_string)\n",
    "    return sum(int(i) for i in answer)\n",
    "\n",
    "aa = re.findall(r\"[\\d]+\",a)\n",
    "aa\n"
   ]
  },
  {
   "cell_type": "code",
   "execution_count": 85,
   "metadata": {},
   "outputs": [],
   "source": [
    "### 프로그래머스 정답\n",
    "def solution(my_string):\n",
    "    s = ''.join(i if i.isdigit() else ' ' for i in my_string)\n",
    "    return sum(int(i) for i in s.split())"
   ]
  },
  {
   "cell_type": "code",
   "execution_count": 86,
   "metadata": {},
   "outputs": [
    {
     "data": {
      "text/plain": [
       "7"
      ]
     },
     "execution_count": 86,
     "metadata": {},
     "output_type": "execute_result"
    }
   ],
   "source": [
    "t = {\n",
    "    'root': {\n",
    "        'value': 5,\n",
    "        'left': {\n",
    "            'value': 3,\n",
    "            'left': None,\n",
    "            'right': None\n",
    "        },\n",
    "        'right': {\n",
    "            'value': 8,\n",
    "            'left': {\n",
    "                'value': 7,\n",
    "                'left': None,\n",
    "                'right': None\n",
    "            },\n",
    "            'right': {\n",
    "                'value': 9,\n",
    "                'left': None,\n",
    "                'right': None\n",
    "            }\n",
    "        }\n",
    "    }\n",
    "}\n",
    "\n",
    "t['root']['value']\n",
    "t['root']['right']['left']['value']\n"
   ]
  },
  {
   "cell_type": "code",
   "execution_count": 87,
   "metadata": {},
   "outputs": [
    {
     "data": {
      "text/plain": [
       "7"
      ]
     },
     "execution_count": 87,
     "metadata": {},
     "output_type": "execute_result"
    }
   ],
   "source": [
    "# 트리노드 만들기 \n",
    "\n",
    "root = {'value' : 'root', 'next' : None }\n",
    "\n",
    "node1 = {'value' : 5, 'left' : None, 'right' : None}\n",
    "node2 = {'value' : 3, 'left' : None, 'right' : None}\n",
    "node3 = {'value' : 8, 'left' : None, 'right' : None}\n",
    "node4 = {'value' : 7, 'left' : None, 'right' : None}\n",
    "node5 = {'value' : 9, 'left' : None, 'right' : None}\n",
    "\n",
    "\n",
    "root['next'] = node1\n",
    "node1['left'] = node2\n",
    "node1['right'] = node3\n",
    "node3['left'] = node4\n",
    "node3['right'] = node5\n",
    "\n",
    "root['next']['right']['left']['value']\n",
    "\n",
    "\n"
   ]
  },
  {
   "cell_type": "code",
   "execution_count": 90,
   "metadata": {},
   "outputs": [
    {
     "data": {
      "text/plain": [
       "9"
      ]
     },
     "execution_count": 90,
     "metadata": {},
     "output_type": "execute_result"
    }
   ],
   "source": [
    "class Node:\n",
    "    def __init__(self, value):\n",
    "        self.value = value\n",
    "        self.left = None\n",
    "        self.right = None\n",
    "        \n",
    "node1 = Node(5)\n",
    "node2 = Node(3)\n",
    "node3 = Node(8)\n",
    "node4 = Node(7)\n",
    "node5 = Node(9)\n",
    "\n",
    "node1.left = node2\n",
    "node1.right = node3\n",
    "node3.left = node4\n",
    "node3.right = node5\n",
    "\n",
    "node1.value\n",
    "node1.right.value\n",
    "node1.right.left.value\n",
    "node1.right.right.value\n",
    "\n",
    "\n",
    "        "
   ]
  },
  {
   "cell_type": "code",
   "execution_count": 93,
   "metadata": {},
   "outputs": [
    {
     "data": {
      "text/plain": [
       "8"
      ]
     },
     "execution_count": 93,
     "metadata": {},
     "output_type": "execute_result"
    }
   ],
   "source": [
    "찾고싶은값 = 7\n",
    "current = node1\n",
    "\n",
    "if current.value == 찾고싶은값:\n",
    "    print('찾았음!')\n",
    "elif current.value > 찾고싶은값:\n",
    "    current = current.left\n",
    "elif current.value < 찾고싶은값:\n",
    "    current = current.right\n",
    "\n",
    "current.value # 8\n",
    "\n",
    "if current.value == 찾고싶은값:\n",
    "    print('찾았음!')\n",
    "elif current.value > 찾고싶은값:\n",
    "    current = current.left\n",
    "elif current.value < 찾고싶은값:\n",
    "    current = current.right\n",
    "\n",
    "current.value # 7"
   ]
  },
  {
   "cell_type": "code",
   "execution_count": 110,
   "metadata": {},
   "outputs": [
    {
     "data": {
      "text/plain": [
       "8"
      ]
     },
     "execution_count": 110,
     "metadata": {},
     "output_type": "execute_result"
    }
   ],
   "source": [
    "# 간소화를 한 tree dlqslek \n",
    "# 링크드리스트와 마찬가지로 완벽한 자료구조를 만들기 위해서는 시간이 걸림\n",
    "\n",
    "class Node:\n",
    "    def __init__(self, value):\n",
    "        self.value = value\n",
    "        self.left = None\n",
    "        self.right = None\n",
    "        \n",
    "class Tree:\n",
    "    def __init__(self,data):\n",
    "        init = Node(data)\n",
    "        self.root = init\n",
    "        self.count = 1\n",
    "        \n",
    "    def __len__(self):\n",
    "        return self.count\n",
    "    \n",
    "    def insert(self,data):\n",
    "        new_node = Node(data)\n",
    "        current_node = self.root\n",
    "        while current_node:\n",
    "            if data == current_node.value: # 같은 데이터 만나면 넣어주지 않음\n",
    "                return\n",
    "            elif data < current_node.value:\n",
    "                if not current_node.left: # 왼쪽으로 갔더니 비어있는 경우\n",
    "                    current_node.left = new_node\n",
    "                    self.count += 1\n",
    "                    return\n",
    "                current_node = current_node.left\n",
    "            elif data > current_node.value:\n",
    "                if not current_node.right: # 오른쪽으로 갔더니 비어있는 경우\n",
    "                    current_node.right = new_node\n",
    "                    self.count += 1\n",
    "                    return\n",
    "                current_node = current_node.right\n",
    "                \n",
    "tree = Tree(5)\n",
    "tree.insert(3)\n",
    "tree.insert(8)\n",
    "tree.insert(1)\n",
    "tree.insert(4)\n",
    "tree.insert(6)\n",
    "tree.insert(9)\n",
    "\n",
    "tree.root.value\n",
    "\n",
    "tree.root.left.value\n",
    "tree.root.right.value"
   ]
  },
  {
   "cell_type": "code",
   "execution_count": null,
   "metadata": {},
   "outputs": [],
   "source": [
    "# 깊스너큐 ( 깊이우선 탐색은 스택, 너비우선 탐색은 큐 )\n",
    "def DFS(self):\n",
    "    # 깊이우선탐색, DFS(Depth First Search)\n",
    "    # Stack 이용! \n",
    "    result = []\n",
    "    stack = [self, root] \n",
    "\n",
    "def BFS(self):\n",
    "    # 너비우선탐색, BFS(Breadth First Search)\n",
    "    # Queue 이용! "
   ]
  }
 ],
 "metadata": {
  "kernelspec": {
   "display_name": "Python 3",
   "language": "python",
   "name": "python3"
  },
  "language_info": {
   "codemirror_mode": {
    "name": "ipython",
    "version": 3
   },
   "file_extension": ".py",
   "mimetype": "text/x-python",
   "name": "python",
   "nbconvert_exporter": "python",
   "pygments_lexer": "ipython3",
   "version": "3.10.5"
  },
  "orig_nbformat": 4
 },
 "nbformat": 4,
 "nbformat_minor": 2
}
