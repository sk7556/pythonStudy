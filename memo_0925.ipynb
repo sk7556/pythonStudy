{
 "cells": [
  {
   "cell_type": "code",
   "execution_count": 14,
   "metadata": {},
   "outputs": [
    {
     "name": "stdout",
     "output_type": "stream",
     "text": [
      "730 µs ± 14.9 µs per loop (mean ± std. dev. of 7 runs, 1,000 loops each)\n"
     ]
    }
   ],
   "source": [
    "#     %%timeit\n",
    "\n",
    "list(range(20))\n",
    "str(list(range(20))).count('1')\n",
    "\n",
    "str(list(range(10000))).count('8')\n",
    "\n"
   ]
  },
  {
   "cell_type": "code",
   "execution_count": 13,
   "metadata": {},
   "outputs": [
    {
     "name": "stdout",
     "output_type": "stream",
     "text": [
      "15.3 µs ± 180 ns per loop (mean ± std. dev. of 7 runs, 100,000 loops each)\n"
     ]
    }
   ],
   "source": [
    "#     %%timeit # 10만번 돌려서 평균 연산 결과를 알려줌\n",
    "count= 0 \n",
    "\n",
    "for i in range(1,101):\n",
    "    if '8' in str(i):\n",
    "        count += str(i).count('8')\n",
    "        \n",
    "count"
   ]
  },
  {
   "cell_type": "code",
   "execution_count": null,
   "metadata": {},
   "outputs": [],
   "source": [
    "%%timeit\n",
    "\n",
    "str(list(range(1,101))).count('1')"
   ]
  },
  {
   "cell_type": "code",
   "execution_count": 15,
   "metadata": {},
   "outputs": [
    {
     "name": "stdout",
     "output_type": "stream",
     "text": [
      "8.2 µs ± 44.6 ns per loop (mean ± std. dev. of 7 runs, 100,000 loops each)\n"
     ]
    }
   ],
   "source": [
    "%%timeit\n",
    "\n",
    "str([i for i in range(1,101)]).count('8')"
   ]
  },
  {
   "cell_type": "code",
   "execution_count": 23,
   "metadata": {},
   "outputs": [
    {
     "name": "stdout",
     "output_type": "stream",
     "text": [
      "[3, 4, 8, 13, 17, 20]\n",
      "[(3, 4), (1, 3), (17, 20), (4, 8), (13, 17), (8, 13)]\n"
     ]
    },
    {
     "data": {
      "text/plain": [
       "(3, 4)"
      ]
     },
     "execution_count": 23,
     "metadata": {},
     "output_type": "execute_result"
    }
   ],
   "source": [
    "# 1차원의 점들이 주어졌을 때, 그 중 가장 거리가 짧은 것의 쌍을 출력하는 함수를 작성하시오. (단 점들의 배열은 모두 정렬되어있다고 가정한다.)\n",
    "# 예를들어 S = [1, 3, 4, 8, 13, 17, 20] 이 주어졌다면, 결과값은 (3, 4)가 될 것이다.\n",
    "\n",
    "s = [1, 3, 4, 8, 13, 17, 20]\n",
    "\n",
    "ss = s[1:]\n",
    "print(ss)\n",
    "list(zip(s,ss))\n",
    "\n",
    "print(sorted(zip(s,ss), key = lambda x : x[1]-x[0]))\n",
    "sorted(zip(s,ss), key = lambda x : x[1]-x[0])[0]"
   ]
  },
  {
   "cell_type": "code",
   "execution_count": 33,
   "metadata": {},
   "outputs": [
    {
     "name": "stdout",
     "output_type": "stream",
     "text": [
      "10\n",
      "2\n",
      "2\n",
      "2\n",
      "2\n",
      "2\n",
      "2\n",
      "최소값 : 2\n",
      "10\n",
      "10\n",
      "10\n",
      "10\n",
      "15\n",
      "15\n",
      "15\n",
      "최대값 : 15\n"
     ]
    }
   ],
   "source": [
    "# 최소값 최대값은 직접 구현할 수 있어야합니다 \n",
    "a = [10,2,3,7,15,3,6]\n",
    "temp = float('inf') # 임의의 최소값을 둔다 \n",
    "    \n",
    "# 최소값\n",
    "for i in a:\n",
    "    if temp > i:\n",
    "        temp = i\n",
    "    print(temp)\n",
    "    \n",
    "print('최소값 : ' + str(temp)) \n",
    "\n",
    "# 최대값\n",
    "temp = -float('inf')\n",
    "for i in a:\n",
    "    if temp < i:\n",
    "        temp = i\n",
    "    print(temp)\n",
    "    \n",
    "print('최대값 : ' + str(temp))\n",
    "    \n"
   ]
  },
  {
   "cell_type": "code",
   "execution_count": 34,
   "metadata": {},
   "outputs": [
    {
     "name": "stdout",
     "output_type": "stream",
     "text": [
      "1\n",
      "3 4\n"
     ]
    }
   ],
   "source": [
    "# 관습적으로는 많이 쓰이는 코드\n",
    "# 협업할 때에는 이런 코드를 많이 작성합니다.\n",
    "l = [1, 3, 4, 8, 13, 17, 20]\n",
    "temp = float('inf')\n",
    "index = 0\n",
    "for i in range(len(l)-1):\n",
    "    if temp > (l[i+1] - l[i]): # out of range 이 애러가 많이 납니다.\n",
    "        temp = l[i+1] - l[i]\n",
    "        index = i\n",
    "print(temp)\n",
    "print(l[index], l[index + 1])"
   ]
  },
  {
   "cell_type": "code",
   "execution_count": 35,
   "metadata": {},
   "outputs": [
    {
     "name": "stdout",
     "output_type": "stream",
     "text": [
      "1\n",
      "3 4\n"
     ]
    }
   ],
   "source": [
    "# 혼자 코딩하실 때 사용하세요.ㅎㅎ\n",
    "l = [1, 3, 4, 8, 13, 17, 20]\n",
    "temp = float('inf')\n",
    "index = 0\n",
    "for i in range(1, len(l)):\n",
    "    if temp > (l[i] - l[i-1]): # out of range 이 애러가 많이 납니다.\n",
    "        temp = l[i] - l[i-1]\n",
    "        index = i\n",
    "print(temp)\n",
    "print(l[index-1], l[index])"
   ]
  },
  {
   "cell_type": "code",
   "execution_count": 36,
   "metadata": {},
   "outputs": [
    {
     "data": {
      "text/plain": [
       "6"
      ]
     },
     "execution_count": 36,
     "metadata": {},
     "output_type": "execute_result"
    }
   ],
   "source": [
    "# 스택\n",
    "s = [1,2,3,4,5]\n",
    "s.append(6)\n",
    "s.pop()"
   ]
  }
 ],
 "metadata": {
  "kernelspec": {
   "display_name": "Python 3",
   "language": "python",
   "name": "python3"
  },
  "language_info": {
   "codemirror_mode": {
    "name": "ipython",
    "version": 3
   },
   "file_extension": ".py",
   "mimetype": "text/x-python",
   "name": "python",
   "nbconvert_exporter": "python",
   "pygments_lexer": "ipython3",
   "version": "3.10.5"
  },
  "orig_nbformat": 4
 },
 "nbformat": 4,
 "nbformat_minor": 2
}
