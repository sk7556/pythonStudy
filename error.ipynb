{
 "cells": [
  {
   "cell_type": "code",
   "execution_count": 1,
   "metadata": {},
   "outputs": [
    {
     "name": "stdout",
     "output_type": "stream",
     "text": [
      "치킨주문 되었습니다!\n",
      "메인화면으로 이동\n"
     ]
    }
   ],
   "source": [
    "try:\n",
    "    할인율 = 0\n",
    "    # 치킨값 = 30000 / 할인율\n",
    "    print('치킨주문 되었습니다!')\n",
    "except:\n",
    "    print('결제가 안되었습니다!')\n",
    "finally:\n",
    "    print('메인화면으로 이동')"
   ]
  },
  {
   "cell_type": "code",
   "execution_count": 2,
   "metadata": {},
   "outputs": [
    {
     "ename": "AssertionError",
     "evalue": "애러 메시지 2",
     "output_type": "error",
     "traceback": [
      "\u001b[1;31m---------------------------------------------------------------------------\u001b[0m",
      "\u001b[1;31mAssertionError\u001b[0m                            Traceback (most recent call last)",
      "\u001b[1;32mc:\\Users\\정식\\Desktop\\개발\\pythonStudy\\error.ipynb 셀 2\u001b[0m line \u001b[0;36m4\n\u001b[0;32m      <a href='vscode-notebook-cell:/c%3A/Users/%EC%A0%95%EC%8B%9D/Desktop/%EA%B0%9C%EB%B0%9C/pythonStudy/error.ipynb#W1sZmlsZQ%3D%3D?line=0'>1</a>\u001b[0m test \u001b[39m=\u001b[39m \u001b[39m'\u001b[39m\u001b[39mhello\u001b[39m\u001b[39m'\u001b[39m\n\u001b[0;32m      <a href='vscode-notebook-cell:/c%3A/Users/%EC%A0%95%EC%8B%9D/Desktop/%EA%B0%9C%EB%B0%9C/pythonStudy/error.ipynb#W1sZmlsZQ%3D%3D?line=2'>3</a>\u001b[0m \u001b[39massert\u001b[39;00m test \u001b[39m==\u001b[39m \u001b[39m'\u001b[39m\u001b[39mhello\u001b[39m\u001b[39m'\u001b[39m, \u001b[39m'\u001b[39m\u001b[39m애러 메시지 1\u001b[39m\u001b[39m'\u001b[39m \u001b[39m#1\u001b[39;00m\n\u001b[1;32m----> <a href='vscode-notebook-cell:/c%3A/Users/%EC%A0%95%EC%8B%9D/Desktop/%EA%B0%9C%EB%B0%9C/pythonStudy/error.ipynb#W1sZmlsZQ%3D%3D?line=3'>4</a>\u001b[0m \u001b[39massert\u001b[39;00m test \u001b[39m==\u001b[39m \u001b[39m'\u001b[39m\u001b[39mworld\u001b[39m\u001b[39m'\u001b[39m, \u001b[39m'\u001b[39m\u001b[39m애러 메시지 2\u001b[39m\u001b[39m'\u001b[39m \u001b[39m#2\u001b[39;00m\n\u001b[0;32m      <a href='vscode-notebook-cell:/c%3A/Users/%EC%A0%95%EC%8B%9D/Desktop/%EA%B0%9C%EB%B0%9C/pythonStudy/error.ipynb#W1sZmlsZQ%3D%3D?line=4'>5</a>\u001b[0m \u001b[39massert\u001b[39;00m test \u001b[39m+\u001b[39m \u001b[39m3\u001b[39m \u001b[39m==\u001b[39m \u001b[39m5\u001b[39m, \u001b[39m'\u001b[39m\u001b[39m애러 메시지 3\u001b[39m\u001b[39m'\u001b[39m \u001b[39m#3\u001b[39;00m\n",
      "\u001b[1;31mAssertionError\u001b[0m: 애러 메시지 2"
     ]
    }
   ],
   "source": [
    "test = 'hello'\n",
    "\n",
    "assert test == 'hello', '애러 메시지 1' #1\n",
    "assert test == 'world', '애러 메시지 2' #2\n",
    "assert test + 3 == 5, '애러 메시지 3' #3"
   ]
  },
  {
   "cell_type": "code",
   "execution_count": 3,
   "metadata": {},
   "outputs": [
    {
     "ename": "FileNotFoundError",
     "evalue": "[Errno 2] No such file or directory: 'non-existent.txt'",
     "output_type": "error",
     "traceback": [
      "\u001b[1;31m---------------------------------------------------------------------------\u001b[0m",
      "\u001b[1;31mFileNotFoundError\u001b[0m                         Traceback (most recent call last)",
      "\u001b[1;32mc:\\Users\\정식\\Desktop\\개발\\pythonStudy\\error.ipynb 셀 3\u001b[0m line \u001b[0;36m2\n\u001b[0;32m      <a href='vscode-notebook-cell:/c%3A/Users/%EC%A0%95%EC%8B%9D/Desktop/%EA%B0%9C%EB%B0%9C/pythonStudy/error.ipynb#W2sZmlsZQ%3D%3D?line=0'>1</a>\u001b[0m \u001b[39m# File I/O Error\u001b[39;00m\n\u001b[1;32m----> <a href='vscode-notebook-cell:/c%3A/Users/%EC%A0%95%EC%8B%9D/Desktop/%EA%B0%9C%EB%B0%9C/pythonStudy/error.ipynb#W2sZmlsZQ%3D%3D?line=1'>2</a>\u001b[0m f \u001b[39m=\u001b[39m \u001b[39mopen\u001b[39;49m(\u001b[39m'\u001b[39;49m\u001b[39mnon-existent.txt\u001b[39;49m\u001b[39m'\u001b[39;49m, \u001b[39m'\u001b[39;49m\u001b[39mr\u001b[39;49m\u001b[39m'\u001b[39;49m)\n\u001b[0;32m      <a href='vscode-notebook-cell:/c%3A/Users/%EC%A0%95%EC%8B%9D/Desktop/%EA%B0%9C%EB%B0%9C/pythonStudy/error.ipynb#W2sZmlsZQ%3D%3D?line=2'>3</a>\u001b[0m f\u001b[39m.\u001b[39mread()\n",
      "File \u001b[1;32m~\\AppData\\Roaming\\Python\\Python310\\site-packages\\IPython\\core\\interactiveshell.py:286\u001b[0m, in \u001b[0;36m_modified_open\u001b[1;34m(file, *args, **kwargs)\u001b[0m\n\u001b[0;32m    279\u001b[0m \u001b[39mif\u001b[39;00m file \u001b[39min\u001b[39;00m {\u001b[39m0\u001b[39m, \u001b[39m1\u001b[39m, \u001b[39m2\u001b[39m}:\n\u001b[0;32m    280\u001b[0m     \u001b[39mraise\u001b[39;00m \u001b[39mValueError\u001b[39;00m(\n\u001b[0;32m    281\u001b[0m         \u001b[39mf\u001b[39m\u001b[39m\"\u001b[39m\u001b[39mIPython won\u001b[39m\u001b[39m'\u001b[39m\u001b[39mt let you open fd=\u001b[39m\u001b[39m{\u001b[39;00mfile\u001b[39m}\u001b[39;00m\u001b[39m by default \u001b[39m\u001b[39m\"\u001b[39m\n\u001b[0;32m    282\u001b[0m         \u001b[39m\"\u001b[39m\u001b[39mas it is likely to crash IPython. If you know what you are doing, \u001b[39m\u001b[39m\"\u001b[39m\n\u001b[0;32m    283\u001b[0m         \u001b[39m\"\u001b[39m\u001b[39myou can use builtins\u001b[39m\u001b[39m'\u001b[39m\u001b[39m open.\u001b[39m\u001b[39m\"\u001b[39m\n\u001b[0;32m    284\u001b[0m     )\n\u001b[1;32m--> 286\u001b[0m \u001b[39mreturn\u001b[39;00m io_open(file, \u001b[39m*\u001b[39margs, \u001b[39m*\u001b[39m\u001b[39m*\u001b[39mkwargs)\n",
      "\u001b[1;31mFileNotFoundError\u001b[0m: [Errno 2] No such file or directory: 'non-existent.txt'"
     ]
    }
   ],
   "source": [
    "# File I/O Error\n",
    "f = open('non-existent.txt', 'r')\n",
    "f.read()"
   ]
  },
  {
   "cell_type": "code",
   "execution_count": 4,
   "metadata": {},
   "outputs": [],
   "source": [
    "x = 10\n",
    "# raise\n",
    "# raise ValueError\n",
    "# raise ValueError('코드를 잘~~ 만들어주세요.')\n",
    "y = 20"
   ]
  },
  {
   "cell_type": "code",
   "execution_count": null,
   "metadata": {},
   "outputs": [],
   "source": [
    "# 문제1(라운지 쓰레드)\n",
    "# 두 수를 나누는 함수 div(a, b)가 있었을 때 \n",
    "# b에 0이 입력되면 예외처리를 하여 정상작동이 되는 함수로 작성을 해주세요.\n",
    "\n",
    "def div(a, b):\n",
    "    pass\n",
    "\n",
    "div(3, 0)\n",
    "\n",
    "# 문제2(class 쓰레드)\n",
    "# 하나의 숫자에 제곱근을 구하는 함수 sqrt_number(num)이 있었을 때\n",
    "# 자체 예외 NegativeNumberError를 정의하세요. 이 예외는 음수가 입력될 때 발생하도록 합니다.\n",
    "# 사용자로부터 숫자를 입력 받아 그 숫자의 제곱근을 반환하는 함수를 작성하세요.\n",
    "# 입력된 숫자가 음수이면 NegativeNumberError를 발생시키고 \n",
    "# \"음수의 제곱근은 계산할 수 없습니다.\"라는 메시지를 출력하세요.\n",
    "\n",
    "# 문제3(class 쓰레드)\n",
    "# 사용자로부터 인덱스 값을 입력 받아서 리스트 [\"apple\", \"banana\", \"cherry\"]에서 \n",
    "# 해당 인덱스의 값을 출력하는 함수를 작성하세요.\n",
    "# 사용자가 범위를 벗어난 인덱스를 입력하면 \"리스트의 범위를 벗어났습니다.\"라는 메시지를 출력하세요."
   ]
  },
  {
   "cell_type": "code",
   "execution_count": 24,
   "metadata": {},
   "outputs": [
    {
     "name": "stdout",
     "output_type": "stream",
     "text": [
      "error\n"
     ]
    }
   ],
   "source": [
    "# 문제1(라운지 쓰레드)\n",
    "# 두 수를 나누는 함수 div(a, b)가 있었을 때 \n",
    "# b에 0이 입력되면 예외처리를 하여 정상작동이 되는 함수로 작성을 해주세요.\n",
    "\n",
    "def div(a, b):\n",
    "    try:\n",
    "        return a / b\n",
    "        \n",
    "        \n",
    "    except ZeroDivisionError:\n",
    "        print('Error')\n",
    "        return None\n",
    "    \n",
    "    except:\n",
    "        print('error')\n",
    "\n",
    "# div(3, 0)\n",
    "div(3, '1')"
   ]
  },
  {
   "cell_type": "code",
   "execution_count": 9,
   "metadata": {},
   "outputs": [
    {
     "name": "stdout",
     "output_type": "stream",
     "text": [
      "음수의 제곱근은 계산할 수 없습니다\n",
      "None\n",
      "4.0\n"
     ]
    }
   ],
   "source": [
    "# 문제2(class 쓰레드)\n",
    "# 하나의 숫자에 제곱근을 구하는 함수 sqrt_number(num)이 있었을 때\n",
    "# 자체 예외 NegativeNumberError를 정의하세요. 이 예외는 음수가 입력될 때 발생하도록 합니다.\n",
    "# 사용자로부터 숫자를 입력 받아 그 숫자의 제곱근을 반환하는 함수를 작성하세요.\n",
    "# 입력된 숫자가 음수이면 NegativeNumberError를 발생시키고 \n",
    "# \"음수의 제곱근은 계산할 수 없습니다.\"라는 메시지를 출력하세요.\n",
    "\n",
    "class NegativeNumberError(Exception):\n",
    "    pass\n",
    "\n",
    "def sqrt_number(num):\n",
    "    try:\n",
    "        if num < 0:\n",
    "            raise NegativeNumberError(\"음수의 제곱근은 계산할 수 없습니다\")\n",
    "        return num**0.5\n",
    "    except NegativeNumberError as e :\n",
    "        print(e)\n",
    "        \n",
    "print(sqrt_number(-5))\n",
    "print(sqrt_number(16))"
   ]
  },
  {
   "cell_type": "code",
   "execution_count": 22,
   "metadata": {},
   "outputs": [
    {
     "name": "stdout",
     "output_type": "stream",
     "text": [
      "리스트의 범위를 벗어났습니다\n"
     ]
    }
   ],
   "source": [
    "# 문제3(class 쓰레드)\n",
    "# 사용자로부터 인덱스 값을 입력 받아서 리스트 [\"apple\", \"banana\", \"cherry\"]에서 \n",
    "# 해당 인덱스의 값을 출력하는 함수를 작성하세요.\n",
    "# 사용자가 범위를 벗어난 인덱스를 입력하면 \"리스트의 범위를 벗어났습니다.\"라는 메시지를 출력하세요.\n",
    "\n",
    "class NumOverError(Exception):\n",
    "    pass\n",
    "\n",
    "def selectFruit(num):\n",
    "    try:        \n",
    "        if num > 3 or num < 1:\n",
    "            raise NumOverError(\"리스트의 범위를 벗어났습니다\")\n",
    "        list = [\"apple\", \"banana\", \"cherry\"] \n",
    "        print(list[num-1])   \n",
    "        \n",
    "    except NumOverError as e :\n",
    "        print(e)\n",
    "        \n",
    "\n",
    "def excution():\n",
    "    num = int(input('과일을 선택하려면 번호를 입력하세요(1~3) : '))\n",
    "    selectFruit(num)\n",
    "    \n",
    "excution()"
   ]
  }
 ],
 "metadata": {
  "kernelspec": {
   "display_name": "Python 3",
   "language": "python",
   "name": "python3"
  },
  "language_info": {
   "codemirror_mode": {
    "name": "ipython",
    "version": 3
   },
   "file_extension": ".py",
   "mimetype": "text/x-python",
   "name": "python",
   "nbconvert_exporter": "python",
   "pygments_lexer": "ipython3",
   "version": "3.10.5"
  },
  "orig_nbformat": 4
 },
 "nbformat": 4,
 "nbformat_minor": 2
}
