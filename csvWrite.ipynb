{
 "cells": [
  {
   "cell_type": "code",
   "execution_count": 14,
   "metadata": {},
   "outputs": [
    {
     "name": "stdout",
     "output_type": "stream",
     "text": [
      "Subject Indices: [4, 5, 6, 7]\n"
     ]
    },
    {
     "ename": "TypeError",
     "evalue": "'str' object is not callable",
     "output_type": "error",
     "traceback": [
      "\u001b[1;31m---------------------------------------------------------------------------\u001b[0m",
      "\u001b[1;31mTypeError\u001b[0m                                 Traceback (most recent call last)",
      "\u001b[1;32mc:\\Users\\정식\\Desktop\\개발\\pythonStudy\\test.ipynb 셀 1\u001b[0m line \u001b[0;36m2\n\u001b[0;32m     <a href='vscode-notebook-cell:/c%3A/Users/%EC%A0%95%EC%8B%9D/Desktop/%EA%B0%9C%EB%B0%9C/pythonStudy/test.ipynb#W2sZmlsZQ%3D%3D?line=18'>19</a>\u001b[0m         \u001b[39mcontinue\u001b[39;00m\n\u001b[0;32m     <a href='vscode-notebook-cell:/c%3A/Users/%EC%A0%95%EC%8B%9D/Desktop/%EA%B0%9C%EB%B0%9C/pythonStudy/test.ipynb#W2sZmlsZQ%3D%3D?line=19'>20</a>\u001b[0m     avg \u001b[39m=\u001b[39m \u001b[39msum\u001b[39m([\u001b[39mint\u001b[39m(row[i]) \u001b[39mfor\u001b[39;00m i \u001b[39min\u001b[39;00m subject_index]) \u001b[39m/\u001b[39m \u001b[39mlen\u001b[39m(subject_index)\n\u001b[1;32m---> <a href='vscode-notebook-cell:/c%3A/Users/%EC%A0%95%EC%8B%9D/Desktop/%EA%B0%9C%EB%B0%9C/pythonStudy/test.ipynb#W2sZmlsZQ%3D%3D?line=20'>21</a>\u001b[0m     row\u001b[39m.\u001b[39mappend(\u001b[39mstr\u001b[39;49m(avg))\n\u001b[0;32m     <a href='vscode-notebook-cell:/c%3A/Users/%EC%A0%95%EC%8B%9D/Desktop/%EA%B0%9C%EB%B0%9C/pythonStudy/test.ipynb#W2sZmlsZQ%3D%3D?line=22'>23</a>\u001b[0m \u001b[39m# 수정된 내용을 파일에 다시 쓰기\u001b[39;00m\n\u001b[0;32m     <a href='vscode-notebook-cell:/c%3A/Users/%EC%A0%95%EC%8B%9D/Desktop/%EA%B0%9C%EB%B0%9C/pythonStudy/test.ipynb#W2sZmlsZQ%3D%3D?line=23'>24</a>\u001b[0m \u001b[39mwith\u001b[39;00m \u001b[39mopen\u001b[39m(\u001b[39m'\u001b[39m\u001b[39mstudent.csv\u001b[39m\u001b[39m'\u001b[39m, \u001b[39m'\u001b[39m\u001b[39mw\u001b[39m\u001b[39m'\u001b[39m, encoding\u001b[39m=\u001b[39m\u001b[39m'\u001b[39m\u001b[39mutf-8\u001b[39m\u001b[39m'\u001b[39m, newline\u001b[39m=\u001b[39m\u001b[39m'\u001b[39m\u001b[39m'\u001b[39m) \u001b[39mas\u001b[39;00m wf:\n",
      "\u001b[1;31mTypeError\u001b[0m: 'str' object is not callable"
     ]
    }
   ],
   "source": [
    "import csv\n",
    "\n",
    "subject = ['국어', '영어', '수학', '사회']\n",
    "\n",
    "with open('student.csv', 'r', encoding='utf-8') as f:\n",
    "    reader = csv.reader(f)\n",
    "    lines = list(reader)\n",
    "\n",
    "subject_index = [lines[0].index(sub) for sub in subject if sub in lines[0]]\n",
    "\n",
    "# subject_index가 제대로 생성되었는지 확인\n",
    "print(\"Subject Indices:\", subject_index)\n",
    "\n",
    "# 평균을 계산하고 추가\n",
    "lines[0].append('평균')\n",
    "for row in lines[1:]:\n",
    "    if len(row) < max(subject_index) + 1:  # 혹시 모를 인덱스 문제를 방지\n",
    "        print(f\"Skipping row due to length mismatch: {row}\")\n",
    "        continue\n",
    "    avg = sum([int(row[i]) for i in subject_index]) / len(subject_index)\n",
    "    row.append(str(avg))\n",
    "\n",
    "# 수정된 내용을 파일에 다시 쓰기\n",
    "with open('student.csv', 'w', encoding='utf-8', newline='') as wf:\n",
    "    writer = csv.writer(wf)\n",
    "    writer.writerows(lines)\n",
    "\n"
   ]
  },
  {
   "cell_type": "code",
   "execution_count": 4,
   "metadata": {},
   "outputs": [
    {
     "ename": "",
     "evalue": "",
     "output_type": "error",
     "traceback": [
      "\u001b[1;31m현재 셀 또는 이전 셀에서 코드를 실행하는 동안 Kernel이 충돌했습니다. 셀의 코드를 검토하여 오류의 가능한 원인을 식별하세요. 자세한 내용을 보려면 <a href='https://aka.ms/vscodeJupyterKernelCrash'> 여기 </a> 를 클릭하세요. 자세한 내용은 Jupyter <a href='command:jupyter.viewOutput'>로그</a>를 참조하세요."
     ]
    }
   ],
   "source": [
    "import csv\n",
    "\n",
    "s = ''\n",
    "\n",
    "with open('student.csv', 'r', encoding='utf-8') as f:\n",
    "    lines = f.readlines()\n",
    "    s += lines[0][:-1] + ',평균'\n",
    "    for i in lines[1:]:\n",
    "        data = i.split(',')\n",
    "        s += f'`n{i.strip()},{sum(map(int,data[4:]))/4}'\n",
    "        \n",
    "with open('student.csv', 'w', encoding='utf-8', newline='') as wf:\n",
    "    writer = csv.writer(wf)\n",
    "    writer.writerows(lines)"
   ]
  }
 ],
 "metadata": {
  "kernelspec": {
   "display_name": "Python 3",
   "language": "python",
   "name": "python3"
  },
  "language_info": {
   "name": "python",
   "version": "3.10.5"
  },
  "orig_nbformat": 4
 },
 "nbformat": 4,
 "nbformat_minor": 2
}
