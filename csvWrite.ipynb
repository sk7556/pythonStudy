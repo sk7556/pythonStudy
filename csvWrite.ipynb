{
 "cells": [
  {
   "cell_type": "code",
   "execution_count": 2,
   "metadata": {},
   "outputs": [
    {
     "name": "stdout",
     "output_type": "stream",
     "text": [
      "Subject Indices: []\n"
     ]
    },
    {
     "ename": "ValueError",
     "evalue": "max() arg is an empty sequence",
     "output_type": "error",
     "traceback": [
      "\u001b[1;31m---------------------------------------------------------------------------\u001b[0m",
      "\u001b[1;31mValueError\u001b[0m                                Traceback (most recent call last)",
      "\u001b[1;32mc:\\Users\\정식\\Desktop\\개발\\pythonStudy\\csvWrite.ipynb 셀 1\u001b[0m line \u001b[0;36m1\n\u001b[0;32m     <a href='vscode-notebook-cell:/c%3A/Users/%EC%A0%95%EC%8B%9D/Desktop/%EA%B0%9C%EB%B0%9C/pythonStudy/csvWrite.ipynb#W1sZmlsZQ%3D%3D?line=14'>15</a>\u001b[0m lines[\u001b[39m0\u001b[39m]\u001b[39m.\u001b[39mappend(\u001b[39m'\u001b[39m\u001b[39m평균\u001b[39m\u001b[39m'\u001b[39m)\n\u001b[0;32m     <a href='vscode-notebook-cell:/c%3A/Users/%EC%A0%95%EC%8B%9D/Desktop/%EA%B0%9C%EB%B0%9C/pythonStudy/csvWrite.ipynb#W1sZmlsZQ%3D%3D?line=15'>16</a>\u001b[0m \u001b[39mfor\u001b[39;00m row \u001b[39min\u001b[39;00m lines[\u001b[39m1\u001b[39m:]:\n\u001b[1;32m---> <a href='vscode-notebook-cell:/c%3A/Users/%EC%A0%95%EC%8B%9D/Desktop/%EA%B0%9C%EB%B0%9C/pythonStudy/csvWrite.ipynb#W1sZmlsZQ%3D%3D?line=16'>17</a>\u001b[0m     \u001b[39mif\u001b[39;00m \u001b[39mlen\u001b[39m(row) \u001b[39m<\u001b[39m \u001b[39mmax\u001b[39;49m(subject_index) \u001b[39m+\u001b[39m \u001b[39m1\u001b[39m:  \u001b[39m# 혹시 모를 인덱스 문제를 방지\u001b[39;00m\n\u001b[0;32m     <a href='vscode-notebook-cell:/c%3A/Users/%EC%A0%95%EC%8B%9D/Desktop/%EA%B0%9C%EB%B0%9C/pythonStudy/csvWrite.ipynb#W1sZmlsZQ%3D%3D?line=17'>18</a>\u001b[0m         \u001b[39mprint\u001b[39m(\u001b[39mf\u001b[39m\u001b[39m\"\u001b[39m\u001b[39mSkipping row due to length mismatch: \u001b[39m\u001b[39m{\u001b[39;00mrow\u001b[39m}\u001b[39;00m\u001b[39m\"\u001b[39m)\n\u001b[0;32m     <a href='vscode-notebook-cell:/c%3A/Users/%EC%A0%95%EC%8B%9D/Desktop/%EA%B0%9C%EB%B0%9C/pythonStudy/csvWrite.ipynb#W1sZmlsZQ%3D%3D?line=18'>19</a>\u001b[0m         \u001b[39mcontinue\u001b[39;00m\n",
      "\u001b[1;31mValueError\u001b[0m: max() arg is an empty sequence"
     ]
    }
   ],
   "source": [
    "import csv\n",
    "\n",
    "subject = ['국어', '영어', '수학', '사회']\n",
    "\n",
    "with open('student.csv', 'r', encoding='utf-8') as f:\n",
    "    reader = csv.reader(f)\n",
    "    lines = list(reader)\n",
    "\n",
    "subject_index = [lines[0].index(sub) for sub in subject if sub in lines[0]]\n",
    "\n",
    "# subject_index가 제대로 생성되었는지 확인\n",
    "print(\"Subject Indices:\", subject_index)\n",
    "\n",
    "# 평균을 계산하고 추가\n",
    "lines[0].append('평균')\n",
    "for row in lines[1:]:\n",
    "    if len(row) < max(subject_index) + 1:  # 혹시 모를 인덱스 문제를 방지\n",
    "        print(f\"Skipping row due to length mismatch: {row}\")\n",
    "        continue\n",
    "    avg = sum([int(row[i]) for i in subject_index]) / len(subject_index)\n",
    "    row.append(str(avg))\n",
    "\n",
    "# 수정된 내용을 파일에 다시 쓰기\n",
    "with open('student.csv', 'w', encoding='utf-8', newline='') as wf:\n",
    "    writer = csv.writer(wf)\n",
    "    writer.writerows(lines)\n",
    "\n"
   ]
  },
  {
   "cell_type": "code",
   "execution_count": 3,
   "metadata": {},
   "outputs": [
    {
     "ename": "ValueError",
     "evalue": "invalid literal for int() with base 10: '\"'",
     "output_type": "error",
     "traceback": [
      "\u001b[1;31m---------------------------------------------------------------------------\u001b[0m",
      "\u001b[1;31mValueError\u001b[0m                                Traceback (most recent call last)",
      "\u001b[1;32mc:\\Users\\정식\\Desktop\\개발\\pythonStudy\\csvWrite.ipynb 셀 2\u001b[0m line \u001b[0;36m1\n\u001b[0;32m      <a href='vscode-notebook-cell:/c%3A/Users/%EC%A0%95%EC%8B%9D/Desktop/%EA%B0%9C%EB%B0%9C/pythonStudy/csvWrite.ipynb#W2sZmlsZQ%3D%3D?line=7'>8</a>\u001b[0m     \u001b[39mfor\u001b[39;00m i \u001b[39min\u001b[39;00m lines[\u001b[39m1\u001b[39m:]:\n\u001b[0;32m      <a href='vscode-notebook-cell:/c%3A/Users/%EC%A0%95%EC%8B%9D/Desktop/%EA%B0%9C%EB%B0%9C/pythonStudy/csvWrite.ipynb#W2sZmlsZQ%3D%3D?line=8'>9</a>\u001b[0m         data \u001b[39m=\u001b[39m i\u001b[39m.\u001b[39msplit(\u001b[39m'\u001b[39m\u001b[39m,\u001b[39m\u001b[39m'\u001b[39m)\n\u001b[1;32m---> <a href='vscode-notebook-cell:/c%3A/Users/%EC%A0%95%EC%8B%9D/Desktop/%EA%B0%9C%EB%B0%9C/pythonStudy/csvWrite.ipynb#W2sZmlsZQ%3D%3D?line=9'>10</a>\u001b[0m         s \u001b[39m+\u001b[39m\u001b[39m=\u001b[39m \u001b[39mf\u001b[39m\u001b[39m'\u001b[39m\u001b[39m`n\u001b[39m\u001b[39m{\u001b[39;00mi\u001b[39m.\u001b[39mstrip()\u001b[39m}\u001b[39;00m\u001b[39m,\u001b[39m\u001b[39m{\u001b[39;00m\u001b[39msum\u001b[39m(\u001b[39mmap\u001b[39m(\u001b[39mint\u001b[39m,data[\u001b[39m4\u001b[39m:]))\u001b[39m/\u001b[39m\u001b[39m4\u001b[39m\u001b[39m}\u001b[39;00m\u001b[39m'\u001b[39m\n\u001b[0;32m     <a href='vscode-notebook-cell:/c%3A/Users/%EC%A0%95%EC%8B%9D/Desktop/%EA%B0%9C%EB%B0%9C/pythonStudy/csvWrite.ipynb#W2sZmlsZQ%3D%3D?line=11'>12</a>\u001b[0m \u001b[39mwith\u001b[39;00m \u001b[39mopen\u001b[39m(\u001b[39m'\u001b[39m\u001b[39mstudent.csv\u001b[39m\u001b[39m'\u001b[39m, \u001b[39m'\u001b[39m\u001b[39mw\u001b[39m\u001b[39m'\u001b[39m, encoding\u001b[39m=\u001b[39m\u001b[39m'\u001b[39m\u001b[39mutf-8\u001b[39m\u001b[39m'\u001b[39m, newline\u001b[39m=\u001b[39m\u001b[39m'\u001b[39m\u001b[39m'\u001b[39m) \u001b[39mas\u001b[39;00m wf:\n\u001b[0;32m     <a href='vscode-notebook-cell:/c%3A/Users/%EC%A0%95%EC%8B%9D/Desktop/%EA%B0%9C%EB%B0%9C/pythonStudy/csvWrite.ipynb#W2sZmlsZQ%3D%3D?line=12'>13</a>\u001b[0m     writer \u001b[39m=\u001b[39m csv\u001b[39m.\u001b[39mwriter(wf)\n",
      "\u001b[1;31mValueError\u001b[0m: invalid literal for int() with base 10: '\"'"
     ]
    }
   ],
   "source": [
    "import csv\n",
    "\n",
    "s = ''\n",
    "\n",
    "with open('student.csv', 'r', encoding='utf-8') as f:\n",
    "    lines = f.readlines()\n",
    "    s += lines[0][:-1] + ',평균'\n",
    "    for i in lines[1:]:\n",
    "        data = i.split(',')\n",
    "        s += f'`n{i.strip()},{sum(map(int,data[4:]))/4}'\n",
    "        \n",
    "with open('student.csv', 'w', encoding='utf-8', newline='') as wf:\n",
    "    writer = csv.writer(wf)\n",
    "    writer.writerows(lines)"
   ]
  }
 ],
 "metadata": {
  "kernelspec": {
   "display_name": "Python 3",
   "language": "python",
   "name": "python3"
  },
  "language_info": {
   "codemirror_mode": {
    "name": "ipython",
    "version": 3
   },
   "file_extension": ".py",
   "mimetype": "text/x-python",
   "name": "python",
   "nbconvert_exporter": "python",
   "pygments_lexer": "ipython3",
   "version": "3.10.5"
  },
  "orig_nbformat": 4
 },
 "nbformat": 4,
 "nbformat_minor": 2
}
